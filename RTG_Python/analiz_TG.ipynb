{
 "cells": [
  {
   "cell_type": "code",
   "execution_count": 1,
   "id": "perfect-certification",
   "metadata": {},
   "outputs": [],
   "source": [
    "import pandas as pd\n",
    "import json"
   ]
  },
  {
   "cell_type": "code",
   "execution_count": 2,
   "id": "naked-watson",
   "metadata": {},
   "outputs": [],
   "source": [
    "def save_fileInJSON(content ,strRoot : str, mode = 'w'):\n",
    "    with open(strRoot,mode) as file:\n",
    "        file.write(json.dumps(content))"
   ]
  },
  {
   "cell_type": "code",
   "execution_count": 3,
   "id": "killing-library",
   "metadata": {},
   "outputs": [],
   "source": [
    "def get_compressedData(listContent_One : list, listContent_Two : list, listHead : list):\n",
    "    listVar = []\n",
    "    for i in range(min(len(listContent_One), len(listContent_Two))):\n",
    "        listVar.append( {listHead[0]:listContent_One[i], listHead[1]:listContent_Two[i]} )\n",
    "    return listVar"
   ]
  },
  {
   "cell_type": "code",
   "execution_count": 4,
   "id": "reliable-doubt",
   "metadata": {},
   "outputs": [],
   "source": [
    "data = pd.read_json('data_tg.json')"
   ]
  },
  {
   "cell_type": "code",
   "execution_count": 5,
   "id": "tender-terrain",
   "metadata": {},
   "outputs": [],
   "source": [
    "data['predictCTR'] = (0.89/100)"
   ]
  },
  {
   "cell_type": "code",
   "execution_count": 6,
   "id": "solved-attachment",
   "metadata": {},
   "outputs": [],
   "source": [
    "data['CPC_predict'] = data['prize']/(data['predictCTR']*data['view'])"
   ]
  },
  {
   "cell_type": "code",
   "execution_count": 7,
   "id": "interstate-tanzania",
   "metadata": {},
   "outputs": [],
   "source": [
    "average_average_bank = 4000\n",
    "ratio_effectiv = 0.05"
   ]
  },
  {
   "cell_type": "code",
   "execution_count": 8,
   "id": "uniform-bosnia",
   "metadata": {},
   "outputs": [],
   "source": [
    "data['predict_match_views'] = (data['view']*data['predictCTR']).astype(int)"
   ]
  },
  {
   "cell_type": "code",
   "execution_count": 9,
   "id": "ancient-reservation",
   "metadata": {},
   "outputs": [],
   "source": [
    "data = data.sort_values(by=['predict_match_views'],ascending=False)"
   ]
  },
  {
   "cell_type": "code",
   "execution_count": 10,
   "id": "combined-teacher",
   "metadata": {},
   "outputs": [],
   "source": [
    "data['predict_match_users'] = (data['predict_match_views']*ratio_effectiv).astype(int)"
   ]
  },
  {
   "cell_type": "code",
   "execution_count": 11,
   "id": "typical-junior",
   "metadata": {},
   "outputs": [],
   "source": [
    "data['predict_profit_bank'] = data['predict_match_users']*average_average_bank"
   ]
  },
  {
   "cell_type": "code",
   "execution_count": 12,
   "id": "minor-protection",
   "metadata": {},
   "outputs": [],
   "source": [
    "data = data[data['predict_match_users']>0]\n",
    "\n",
    "data['cost_one_user'] = (data['prize']/data['predict_match_users']).astype(int)\n"
   ]
  },
  {
   "cell_type": "code",
   "execution_count": 13,
   "id": "prepared-shore",
   "metadata": {},
   "outputs": [],
   "source": [
    "data['predict_profit_bank_prize'] = data['predict_profit_bank'] - data['prize']"
   ]
  },
  {
   "cell_type": "code",
   "execution_count": 14,
   "id": "subjective-conclusion",
   "metadata": {},
   "outputs": [],
   "source": [
    "data = data.sort_values(by=['predict_profit_bank_prize'],ascending=False)\n"
   ]
  },
  {
   "cell_type": "markdown",
   "id": "guided-details",
   "metadata": {},
   "source": [
    "Профит банка"
   ]
  },
  {
   "cell_type": "code",
   "execution_count": 15,
   "id": "comic-pulse",
   "metadata": {},
   "outputs": [],
   "source": [
    "save_fileInJSON(get_compressedData(data.predict_profit_bank_prize.index.tolist() ,  data.predict_profit_bank_prize.values.tolist(), ['PlatformName','PredictProfit']), 'JSON_RTG/bankProfit_TG.json')"
   ]
  },
  {
   "cell_type": "code",
   "execution_count": 16,
   "id": "liable-motorcycle",
   "metadata": {},
   "outputs": [],
   "source": [
    "data.index = data.name"
   ]
  },
  {
   "cell_type": "markdown",
   "id": "experienced-maldives",
   "metadata": {},
   "source": [
    "Стоимость одного клиента"
   ]
  },
  {
   "cell_type": "code",
   "execution_count": 17,
   "id": "dimensional-chancellor",
   "metadata": {},
   "outputs": [],
   "source": [
    "save_fileInJSON(get_compressedData(data.cost_one_user.index.tolist() ,  data.cost_one_user.values.tolist(), ['CountOfClient','PlatformName']), 'JSON_RTG/PricePerClient_TG.json')"
   ]
  },
  {
   "cell_type": "markdown",
   "id": "aggressive-scientist",
   "metadata": {},
   "source": [
    "Количество новых клиентов"
   ]
  },
  {
   "cell_type": "code",
   "execution_count": 18,
   "id": "weird-botswana",
   "metadata": {},
   "outputs": [],
   "source": [
    "save_fileInJSON(get_compressedData(data.predict_match_users.index.tolist() ,  data.predict_match_users.values.tolist(), ['CountOfClient','PlatformName']), 'JSON_RTG/CountOfNewClients_TG.json')"
   ]
  }
 ],
 "metadata": {
  "kernelspec": {
   "display_name": "Python 3.8.10 64-bit (windows store)",
   "language": "python",
   "name": "python3"
  },
  "language_info": {
   "codemirror_mode": {
    "name": "ipython",
    "version": 3
   },
   "file_extension": ".py",
   "mimetype": "text/x-python",
   "name": "python",
   "nbconvert_exporter": "python",
   "pygments_lexer": "ipython3",
   "version": "3.8.10"
  },
  "vscode": {
   "interpreter": {
    "hash": "a4c666bb8bcca651d5f0a1a5c18ce420848431a9af5daeb4843d708669ed8004"
   }
  }
 },
 "nbformat": 4,
 "nbformat_minor": 5
}
