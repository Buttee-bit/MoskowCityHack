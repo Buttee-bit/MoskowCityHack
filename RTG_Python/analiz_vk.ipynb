{
 "cells": [
  {
   "cell_type": "code",
   "execution_count": 5,
   "id": "occupied-novelty",
   "metadata": {},
   "outputs": [],
   "source": [
    "import pandas as pd\n",
    "import json"
   ]
  },
  {
   "cell_type": "code",
   "execution_count": 6,
   "id": "revised-diana",
   "metadata": {},
   "outputs": [],
   "source": [
    "def save_fileInJSON(content ,strRoot : str, mode = 'w'):\n",
    "    with open(strRoot,mode) as file:\n",
    "        file.write(json.dumps(content))"
   ]
  },
  {
   "cell_type": "code",
   "execution_count": 7,
   "id": "elect-spokesman",
   "metadata": {},
   "outputs": [],
   "source": [
    "def get_compressedData(listContent_One : list, listContent_Two : list, listHead : list):\n",
    "    listVar = []\n",
    "    for i in range(min(len(listContent_One), len(listContent_Two))):\n",
    "        listVar.append( {listHead[0]:listContent_One[i], listHead[1]:listContent_Two[i]} )\n",
    "    return listVar"
   ]
  },
  {
   "cell_type": "code",
   "execution_count": 8,
   "id": "innocent-correlation",
   "metadata": {},
   "outputs": [],
   "source": [
    "data = pd.read_csv(r'C:\\Users\\major\\Documents\\GitHub\\MoskowCityHack\\RTG_Python\\Scrap\\data_vk.csv')"
   ]
  },
  {
   "cell_type": "code",
   "execution_count": 9,
   "id": "agreed-zambia",
   "metadata": {},
   "outputs": [],
   "source": [
    "data = data.rename(columns={\"Название площадки\": \"name\", \"Ссылка на сообщество\": \"link\"\n",
    "                    , \"Количество участников\": \"subs\", \"Охват рекламы\": \"oxvat_rek\"\n",
    "                    , \"Охват по подписчикам\": \"oxvat_subs\", \"Стоимость\": \"cost\",\n",
    "                     \"Длительность размещения\": \"late_time\"})"
   ]
  },
  {
   "cell_type": "code",
   "execution_count": 10,
   "id": "english-force",
   "metadata": {},
   "outputs": [],
   "source": [
    "data =data.drop(['link','oxvat_rek','late_time'],axis=1)"
   ]
  },
  {
   "cell_type": "code",
   "execution_count": 11,
   "id": "absolute-rings",
   "metadata": {},
   "outputs": [],
   "source": [
    "data['predictCTR'] = (0.89/100)"
   ]
  },
  {
   "cell_type": "code",
   "execution_count": 12,
   "id": "deadly-astrology",
   "metadata": {},
   "outputs": [],
   "source": [
    "data['CPC_predict'] = data['cost']/(data['predictCTR']*data['oxvat_subs'])"
   ]
  },
  {
   "cell_type": "code",
   "execution_count": 13,
   "id": "extended-quilt",
   "metadata": {},
   "outputs": [],
   "source": [
    "average_average_bank = 4000\n",
    "ratio_effectiv = 0.05"
   ]
  },
  {
   "cell_type": "code",
   "execution_count": 14,
   "id": "retired-bishop",
   "metadata": {},
   "outputs": [],
   "source": [
    "data['predict_match_views'] = (data['oxvat_subs']*data['predictCTR']).astype(int)"
   ]
  },
  {
   "cell_type": "code",
   "execution_count": 15,
   "id": "contemporary-casting",
   "metadata": {},
   "outputs": [],
   "source": [
    "data = data.sort_values(by=['predict_match_views'],ascending=False)"
   ]
  },
  {
   "cell_type": "code",
   "execution_count": 16,
   "id": "urban-mounting",
   "metadata": {},
   "outputs": [],
   "source": [
    "data['predict_match_users'] = (data['predict_match_views']*ratio_effectiv).astype(int)"
   ]
  },
  {
   "cell_type": "code",
   "execution_count": 17,
   "id": "wanted-genre",
   "metadata": {},
   "outputs": [],
   "source": [
    "data['predict_profit_bank'] = data['predict_match_users']*average_average_bank"
   ]
  },
  {
   "cell_type": "code",
   "execution_count": 18,
   "id": "first-worker",
   "metadata": {},
   "outputs": [],
   "source": [
    "data = data[data['predict_match_users']>0]"
   ]
  },
  {
   "cell_type": "code",
   "execution_count": 19,
   "id": "color-moore",
   "metadata": {
    "scrolled": false
   },
   "outputs": [],
   "source": [
    "data['cost_one_user'] = (data['cost']/data['predict_match_users']).astype(int)"
   ]
  },
  {
   "cell_type": "code",
   "execution_count": 20,
   "id": "beginning-looking",
   "metadata": {},
   "outputs": [],
   "source": [
    "data['predict_profit_bank_prize'] = data['predict_profit_bank'] - data['cost']"
   ]
  },
  {
   "cell_type": "code",
   "execution_count": 21,
   "id": "lesser-elephant",
   "metadata": {},
   "outputs": [],
   "source": [
    "data = data.sort_values(by=['predict_profit_bank_prize'],ascending=False)"
   ]
  },
  {
   "cell_type": "code",
   "execution_count": 22,
   "id": "adjacent-charger",
   "metadata": {},
   "outputs": [],
   "source": [
    "data.index = data.name"
   ]
  },
  {
   "cell_type": "markdown",
   "id": "stock-broad",
   "metadata": {},
   "source": [
    "Профит банка"
   ]
  },
  {
   "cell_type": "code",
   "execution_count": 23,
   "id": "twenty-shower",
   "metadata": {},
   "outputs": [],
   "source": [
    "save_fileInJSON(get_compressedData(data.predict_profit_bank_prize.index.tolist() ,  data.predict_profit_bank_prize.values.tolist(), ['PlatformName','PredictProfit']), 'JSON_RTG/bankProfit_VK.json')"
   ]
  },
  {
   "cell_type": "markdown",
   "id": "approximate-orange",
   "metadata": {},
   "source": [
    "Стоимость одного клиента"
   ]
  },
  {
   "cell_type": "code",
   "execution_count": 24,
   "id": "false-steel",
   "metadata": {},
   "outputs": [],
   "source": [
    "save_fileInJSON(get_compressedData(data.cost_one_user.index.tolist() ,  data.cost_one_user.values.tolist(), ['CountOfClient','PlatformName']), 'JSON_RTG/PricePerClient_VK.json')"
   ]
  },
  {
   "cell_type": "markdown",
   "id": "adaptive-publication",
   "metadata": {},
   "source": [
    "Количество новых клиентов"
   ]
  },
  {
   "cell_type": "code",
   "execution_count": 25,
   "id": "demanding-questionnaire",
   "metadata": {},
   "outputs": [],
   "source": [
    "save_fileInJSON(get_compressedData(data.predict_match_users.index.tolist() ,  data.predict_match_users.values.tolist(), ['CountOfClient','PlatformName']), 'JSON_RTG/CountOfNewClients_VK.json')"
   ]
  }
 ],
 "metadata": {
  "kernelspec": {
   "display_name": "Python 3.8.10 64-bit (windows store)",
   "language": "python",
   "name": "python3"
  },
  "language_info": {
   "codemirror_mode": {
    "name": "ipython",
    "version": 3
   },
   "file_extension": ".py",
   "mimetype": "text/x-python",
   "name": "python",
   "nbconvert_exporter": "python",
   "pygments_lexer": "ipython3",
   "version": "3.8.10"
  },
  "vscode": {
   "interpreter": {
    "hash": "a4c666bb8bcca651d5f0a1a5c18ce420848431a9af5daeb4843d708669ed8004"
   }
  }
 },
 "nbformat": 4,
 "nbformat_minor": 5
}
