{
 "cells": [
  {
   "cell_type": "code",
   "execution_count": 11,
   "metadata": {},
   "outputs": [],
   "source": [
    "import glob\n",
    "import json\n",
    "\n",
    "listJSONFiles = glob.glob('./JSON_RTG/*.json')"
   ]
  },
  {
   "cell_type": "code",
   "execution_count": 12,
   "metadata": {},
   "outputs": [
    {
     "data": {
      "text/plain": [
       "['./JSON_RTG\\\\Age.json',\n",
       " './JSON_RTG\\\\avrBalance.json',\n",
       " './JSON_RTG\\\\bankProfit_TG.json',\n",
       " './JSON_RTG\\\\bankProfit_VK.json',\n",
       " './JSON_RTG\\\\CountOfNewClients_TG.json',\n",
       " './JSON_RTG\\\\CountOfNewClients_VK.json',\n",
       " './JSON_RTG\\\\CreditCardCount.json',\n",
       " './JSON_RTG\\\\Gender.json',\n",
       " './JSON_RTG\\\\MedianBalance.json',\n",
       " './JSON_RTG\\\\MidAvrBankUseTime.json',\n",
       " './JSON_RTG\\\\NewBankCard.json',\n",
       " './JSON_RTG\\\\PricePerClient_TG.json',\n",
       " './JSON_RTG\\\\PricePerClient_VK.json']"
      ]
     },
     "execution_count": 12,
     "metadata": {},
     "output_type": "execute_result"
    }
   ],
   "source": [
    "listJSONFiles"
   ]
  },
  {
   "cell_type": "code",
   "execution_count": 13,
   "metadata": {},
   "outputs": [
    {
     "name": "stdout",
     "output_type": "stream",
     "text": [
      "[[{'Age': '14-16', 'Percent': 0.0}, {'Age': '16-23', 'Percent': 6.91}, {'Age': '23-30', 'Percent': 11.7}, {'Age': '30-37', 'Percent': 18.67}, {'Age': '37-44', 'Percent': 19.88}, {'Age': '44-51', 'Percent': 15.92}, {'Age': '51-58', 'Percent': 11.76}, {'Age': '58-65', 'Percent': 9.34}, {'Age': '65-72', 'Percent': 4.16}, {'Age': '72-79', 'Percent': 1.28}, {'Age': '79-86', 'Percent': 0.38}, {'Age': '86-93', 'Percent': 0.0}], [{'avrBalance': 2950.0}], [{'PlatformName': 13, 'PredictProfit': 53600}, {'PlatformName': 1, 'PredictProfit': 27000}, {'PlatformName': 17, 'PredictProfit': 8120}, {'PlatformName': 20, 'PredictProfit': 7000}, {'PlatformName': 12, 'PredictProfit': 6160}, {'PlatformName': 34, 'PredictProfit': 3800}, {'PlatformName': 45, 'PredictProfit': 3080}, {'PlatformName': 6, 'PredictProfit': 600}, {'PlatformName': 3, 'PredictProfit': 120}, {'PlatformName': 28, 'PredictProfit': -640}, {'PlatformName': 10, 'PredictProfit': -4400}, {'PlatformName': 46, 'PredictProfit': -4400}, {'PlatformName': 5, 'PredictProfit': -5600}, {'PlatformName': 27, 'PredictProfit': -6200}, {'PlatformName': 41, 'PredictProfit': -8600}, {'PlatformName': 38, 'PredictProfit': -9600}, {'PlatformName': 18, 'PredictProfit': -10400}, {'PlatformName': 14, 'PredictProfit': -10400}, {'PlatformName': 7, 'PredictProfit': -11600}, {'PlatformName': 40, 'PredictProfit': -11999}, {'PlatformName': 35, 'PredictProfit': -12800}, {'PlatformName': 4, 'PredictProfit': -13600}, {'PlatformName': 15, 'PredictProfit': -14000}, {'PlatformName': 19, 'PredictProfit': -14498}, {'PlatformName': 48, 'PredictProfit': -16000}, {'PlatformName': 21, 'PredictProfit': -16000}, {'PlatformName': 23, 'PredictProfit': -22600}, {'PlatformName': 11, 'PredictProfit': -23200}, {'PlatformName': 29, 'PredictProfit': -26000}, {'PlatformName': 16, 'PredictProfit': -26052}, {'PlatformName': 32, 'PredictProfit': -31945}, {'PlatformName': 0, 'PredictProfit': -40000}, {'PlatformName': 8, 'PredictProfit': -46689}, {'PlatformName': 2, 'PredictProfit': -52000}, {'PlatformName': 30, 'PredictProfit': -64000}, {'PlatformName': 9, 'PredictProfit': -110800}], [{'PlatformName': 'Мой дом. Санкт-Петербург', 'PredictProfit': 353050}, {'PlatformName': 'Идеи малого бизнеса', 'PredictProfit': 87424}, {'PlatformName': 'ВСЕ ЛЬГОТЫ || НАЛОГОВЫЙ ВЫЧЕТ II БАНКРОТСТВО', 'PredictProfit': 59352}, {'PlatformName': '🔔 Эта страница официально подтверждена', 'PredictProfit': 51503}, {'PlatformName': 'Малый бизнес', 'PredictProfit': 47568}, {'PlatformName': 'Индивидуальный предприниматель', 'PredictProfit': 47424}, {'PlatformName': 'Successful person (Успешный человек). Успех', 'PredictProfit': 39856}, {'PlatformName': 'Все Льготы: выплаты на детей, пособие, пенсия', 'PredictProfit': 39193}, {'PlatformName': 'Бизнес-идеи, инвестиции и кредиты', 'PredictProfit': 31481}, {'PlatformName': '«Все-пособия.ру»: Пособия - Льготы - Пенсии', 'PredictProfit': 29120}, {'PlatformName': 'Интеллектуальное мнение', 'PredictProfit': 23827}, {'PlatformName': 'Акулы Бизнеса', 'PredictProfit': 23640}, {'PlatformName': 'Частный предприниматель', 'PredictProfit': 19856}, {'PlatformName': 'Какой бизнес открыть', 'PredictProfit': 19856}, {'PlatformName': 'Каталог бизнес идей', 'PredictProfit': 19640}, {'PlatformName': 'Стартап | Идеи для бизнеса, маркетинг', 'PredictProfit': 18632}, {'PlatformName': 'Территория Успеха| Бизнес, успех, саморазвитие', 'PredictProfit': 15856}, {'PlatformName': 'Подслушано Банк', 'PredictProfit': 15856}, {'PlatformName': 'Business life', 'PredictProfit': 15712}, {'PlatformName': 'Сообщество Богатого Папы: бизнес, инвестиции', 'PredictProfit': 15712}, {'PlatformName': 'Без Босса | Идеи бизнеса', 'PredictProfit': 15712}, {'PlatformName': 'Юристы и адвокаты: бесплатная юридическая помощь', 'PredictProfit': 15280}, {'PlatformName': 'Money | Идеи заработка', 'PredictProfit': 11784}, {'PlatformName': 'Не Наемное Настроение | Бизнес Журнал', 'PredictProfit': 11712}, {'PlatformName': 'Бизнес идеи', 'PredictProfit': 11712}, {'PlatformName': 'Мотивация - думай иначе, будь лучше!', 'PredictProfit': 7938}, {'PlatformName': 'Американский Папаша | American Dad', 'PredictProfit': 7865}, {'PlatformName': 'Недвижимость Красноярск', 'PredictProfit': 7294}, {'PlatformName': 'Элвин Грей', 'PredictProfit': 4800}, {'PlatformName': 'Доска объявлений ДИВНОГОРСК', 'PredictProfit': 3971}, {'PlatformName': 'КУПЛЮ - ПРОДАМ САМАРА', 'PredictProfit': 3928}, {'PlatformName': '#Токарь - это звучит гордо!', 'PredictProfit': 3856}, {'PlatformName': 'Подслушано ОЭМК • СГОК • ЛГОК • НЛМК', 'PredictProfit': 3784}, {'PlatformName': 'Росляково | Общение, новости, реклама', 'PredictProfit': 3640}, {'PlatformName': 'Бухгалтерия и налоги | Бесплатная консультация', 'PredictProfit': 3568}, {'PlatformName': 'ЖК Юнтолово | Неофициальная группа', 'PredictProfit': 2560}], [{'CountOfClient': 'Игорь,', 'PlatformName': 20}, {'CountOfClient': 'Подкас', 'PlatformName': 9}, {'CountOfClient': 'Busine', 'PlatformName': 5}, {'CountOfClient': 'Real💎C', 'PlatformName': 4}, {'CountOfClient': 'Busine', 'PlatformName': 4}, {'CountOfClient': 'ElonNe', 'PlatformName': 2}, {'CountOfClient': 'Формул', 'PlatformName': 2}, {'CountOfClient': 'Деньги', 'PlatformName': 3}, {'CountOfClient': 'СилаКн', 'PlatformName': 3}, {'CountOfClient': 'Систем', 'PlatformName': 2}, {'CountOfClient': 'Лектор', 'PlatformName': 1}, {'CountOfClient': 'БИЗНЕС', 'PlatformName': 1}, {'CountOfClient': 'Денежн', 'PlatformName': 1}, {'CountOfClient': 'Соврем', 'PlatformName': 1}, {'CountOfClient': 'Бизнес', 'PlatformName': 1}, {'CountOfClient': 'Мудрый', 'PlatformName': 3}, {'CountOfClient': 'Фармер', 'PlatformName': 4}, {'CountOfClient': 'PROБиз', 'PlatformName': 4}, {'CountOfClient': 'ИлонМа', 'PlatformName': 10}, {'CountOfClient': 'Groks', 'PlatformName': 6}, {'CountOfClient': 'Инвест', 'PlatformName': 4}, {'CountOfClient': 'МыслиН', 'PlatformName': 23}, {'CountOfClient': 'Вшколе', 'PlatformName': 1}, {'CountOfClient': 'ОБизне', 'PlatformName': 4}, {'CountOfClient': 'Moneyh', 'PlatformName': 2}, {'CountOfClient': 'Старта', 'PlatformName': 2}, {'CountOfClient': 'Фининд', 'PlatformName': 8}, {'CountOfClient': 'Уютный', 'PlatformName': 8}, {'CountOfClient': 'Налоги', 'PlatformName': 1}, {'CountOfClient': 'Налоги', 'PlatformName': 1}, {'CountOfClient': 'Безasp', 'PlatformName': 2}, {'CountOfClient': 'Книгин', 'PlatformName': 23}, {'CountOfClient': 'MMI', 'PlatformName': 8}, {'CountOfClient': 'TrendW', 'PlatformName': 11}, {'CountOfClient': 'Старта', 'PlatformName': 2}, {'CountOfClient': 'DeCent', 'PlatformName': 11}], [{'CountOfClient': 'Мой дом. Санкт-Петербург', 'PlatformName': 89}, {'CountOfClient': 'Идеи малого бизнеса', 'PlatformName': 22}, {'CountOfClient': 'ВСЕ ЛЬГОТЫ || НАЛОГОВЫЙ ВЫЧЕТ II БАНКРОТСТВО', 'PlatformName': 15}, {'CountOfClient': '🔔 Эта страница официально подтверждена', 'PlatformName': 13}, {'CountOfClient': 'Малый бизнес', 'PlatformName': 12}, {'CountOfClient': 'Индивидуальный предприниматель', 'PlatformName': 12}, {'CountOfClient': 'Successful person (Успешный человек). Успех', 'PlatformName': 10}, {'CountOfClient': 'Все Льготы: выплаты на детей, пособие, пенсия', 'PlatformName': 10}, {'CountOfClient': 'Бизнес-идеи, инвестиции и кредиты', 'PlatformName': 8}, {'CountOfClient': '«Все-пособия.ру»: Пособия - Льготы - Пенсии', 'PlatformName': 8}, {'CountOfClient': 'Интеллектуальное мнение', 'PlatformName': 6}, {'CountOfClient': 'Акулы Бизнеса', 'PlatformName': 6}, {'CountOfClient': 'Частный предприниматель', 'PlatformName': 5}, {'CountOfClient': 'Какой бизнес открыть', 'PlatformName': 5}, {'CountOfClient': 'Каталог бизнес идей', 'PlatformName': 5}, {'CountOfClient': 'Стартап | Идеи для бизнеса, маркетинг', 'PlatformName': 5}, {'CountOfClient': 'Территория Успеха| Бизнес, успех, саморазвитие', 'PlatformName': 4}, {'CountOfClient': 'Подслушано Банк', 'PlatformName': 4}, {'CountOfClient': 'Business life', 'PlatformName': 4}, {'CountOfClient': 'Сообщество Богатого Папы: бизнес, инвестиции', 'PlatformName': 4}, {'CountOfClient': 'Без Босса | Идеи бизнеса', 'PlatformName': 4}, {'CountOfClient': 'Юристы и адвокаты: бесплатная юридическая помощь', 'PlatformName': 4}, {'CountOfClient': 'Money | Идеи заработка', 'PlatformName': 3}, {'CountOfClient': 'Не Наемное Настроение | Бизнес Журнал', 'PlatformName': 3}, {'CountOfClient': 'Бизнес идеи', 'PlatformName': 3}, {'CountOfClient': 'Мотивация - думай иначе, будь лучше!', 'PlatformName': 2}, {'CountOfClient': 'Американский Папаша | American Dad', 'PlatformName': 2}, {'CountOfClient': 'Недвижимость Красноярск', 'PlatformName': 2}, {'CountOfClient': 'Элвин Грей', 'PlatformName': 3}, {'CountOfClient': 'Доска объявлений ДИВНОГОРСК', 'PlatformName': 1}, {'CountOfClient': 'КУПЛЮ - ПРОДАМ САМАРА', 'PlatformName': 1}, {'CountOfClient': '#Токарь - это звучит гордо!', 'PlatformName': 1}, {'CountOfClient': 'Подслушано ОЭМК • СГОК • ЛГОК • НЛМК', 'PlatformName': 1}, {'CountOfClient': 'Росляково | Общение, новости, реклама', 'PlatformName': 1}, {'CountOfClient': 'Бухгалтерия и налоги | Бесплатная консультация', 'PlatformName': 1}, {'CountOfClient': 'ЖК Юнтолово | Неофициальная группа', 'PlatformName': 1}], [{'CardType': 1, 'CardCount': 0.0}, {'CardType': 2, 'CardCount': 33.33}, {'CardType': 3, 'CardCount': 0.0}, {'CardType': '4+', 'CardCount': 66.67}], [{'Gender': 'F', 'Percent': 53.58}, {'Gender': 'M', 'Percent': 46.42}], [{'MedianDebetTurnSum': 29900, 'MedianCreditTurnSum': 25000}], [{'MidAvrBankUseTime': 1.0}], [{'SystemName': 'MIR', 'Percent': 22.6}, {'SystemName': 'Visa', 'Percent': 62.9}, {'SystemName': 'MasterCard', 'Percent': 13.0}, {'SystemName': 'Maestro', 'Percent': 0.0}, {'SystemName': 'Other', 'Percent': 1.5}], [{'CountOfClient': 'Игорь,', 'PlatformName': 1320}, {'CountOfClient': 'Подкас', 'PlatformName': 1000}, {'CountOfClient': 'Busine', 'PlatformName': 2376}, {'CountOfClient': 'Real💎C', 'PlatformName': 2250}, {'CountOfClient': 'Busine', 'PlatformName': 2460}, {'CountOfClient': 'ElonNe', 'PlatformName': 2100}, {'CountOfClient': 'Формул', 'PlatformName': 2460}, {'CountOfClient': 'Деньги', 'PlatformName': 3800}, {'CountOfClient': 'СилаКн', 'PlatformName': 3960}, {'CountOfClient': 'Систем', 'PlatformName': 4320}, {'CountOfClient': 'Лектор', 'PlatformName': 8400}, {'CountOfClient': 'БИЗНЕС', 'PlatformName': 8400}, {'CountOfClient': 'Денежн', 'PlatformName': 9600}, {'CountOfClient': 'Соврем', 'PlatformName': 10200}, {'CountOfClient': 'Бизнес', 'PlatformName': 12600}, {'CountOfClient': 'Мудрый', 'PlatformName': 7200}, {'CountOfClient': 'Фармер', 'PlatformName': 6600}, {'CountOfClient': 'PROБиз', 'PlatformName': 6600}, {'CountOfClient': 'ИлонМа', 'PlatformName': 5160}, {'CountOfClient': 'Groks', 'PlatformName': 5999}, {'CountOfClient': 'Инвест', 'PlatformName': 7200}, {'CountOfClient': 'МыслиН', 'PlatformName': 4591}, {'CountOfClient': 'Вшколе', 'PlatformName': 18000}, {'CountOfClient': 'ОБизне', 'PlatformName': 7624}, {'CountOfClient': 'Moneyh', 'PlatformName': 12000}, {'CountOfClient': 'Старта', 'PlatformName': 12000}, {'CountOfClient': 'Фининд', 'PlatformName': 6825}, {'CountOfClient': 'Уютный', 'PlatformName': 6900}, {'CountOfClient': 'Налоги', 'PlatformName': 30000}, {'CountOfClient': 'Налоги', 'PlatformName': 30052}, {'CountOfClient': 'Безasp', 'PlatformName': 19972}, {'CountOfClient': 'Книгин', 'PlatformName': 5739}, {'CountOfClient': 'MMI', 'PlatformName': 9836}, {'CountOfClient': 'TrendW', 'PlatformName': 8727}, {'CountOfClient': 'Старта', 'PlatformName': 36000}, {'CountOfClient': 'DeCent', 'PlatformName': 14072}], [{'CountOfClient': 'Мой дом. Санкт-Петербург', 'PlatformName': 33}, {'CountOfClient': 'Идеи малого бизнеса', 'PlatformName': 26}, {'CountOfClient': 'ВСЕ ЛЬГОТЫ || НАЛОГОВЫЙ ВЫЧЕТ II БАНКРОТСТВО', 'PlatformName': 43}, {'CountOfClient': '🔔 Эта страница официально подтверждена', 'PlatformName': 38}, {'CountOfClient': 'Малый бизнес', 'PlatformName': 36}, {'CountOfClient': 'Индивидуальный предприниматель', 'PlatformName': 48}, {'CountOfClient': 'Successful person (Успешный человек). Успех', 'PlatformName': 14}, {'CountOfClient': 'Все Льготы: выплаты на детей, пособие, пенсия', 'PlatformName': 80}, {'CountOfClient': 'Бизнес-идеи, инвестиции и кредиты', 'PlatformName': 64}, {'CountOfClient': '«Все-пособия.ру»: Пособия - Льготы - Пенсии', 'PlatformName': 360}, {'CountOfClient': 'Интеллектуальное мнение', 'PlatformName': 28}, {'CountOfClient': 'Акулы Бизнеса', 'PlatformName': 60}, {'CountOfClient': 'Частный предприниматель', 'PlatformName': 28}, {'CountOfClient': 'Какой бизнес открыть', 'PlatformName': 28}, {'CountOfClient': 'Каталог бизнес идей', 'PlatformName': 72}, {'CountOfClient': 'Стартап | Идеи для бизнеса, маркетинг', 'PlatformName': 273}, {'CountOfClient': 'Территория Успеха| Бизнес, успех, саморазвитие', 'PlatformName': 36}, {'CountOfClient': 'Подслушано Банк', 'PlatformName': 36}, {'CountOfClient': 'Business life', 'PlatformName': 72}, {'CountOfClient': 'Сообщество Богатого Папы: бизнес, инвестиции', 'PlatformName': 72}, {'CountOfClient': 'Без Босса | Идеи бизнеса', 'PlatformName': 72}, {'CountOfClient': 'Юристы и адвокаты: бесплатная юридическая помощь', 'PlatformName': 180}, {'CountOfClient': 'Money | Идеи заработка', 'PlatformName': 72}, {'CountOfClient': 'Не Наемное Настроение | Бизнес Журнал', 'PlatformName': 96}, {'CountOfClient': 'Бизнес идеи', 'PlatformName': 96}, {'CountOfClient': 'Мотивация - думай иначе, будь лучше!', 'PlatformName': 31}, {'CountOfClient': 'Американский Папаша | American Dad', 'PlatformName': 67}, {'CountOfClient': 'Недвижимость Красноярск', 'PlatformName': 353}, {'CountOfClient': 'Элвин Грей', 'PlatformName': 2400}, {'CountOfClient': 'Доска объявлений ДИВНОГОРСК', 'PlatformName': 29}, {'CountOfClient': 'КУПЛЮ - ПРОДАМ САМАРА', 'PlatformName': 72}, {'CountOfClient': '#Токарь - это звучит гордо!', 'PlatformName': 144}, {'CountOfClient': 'Подслушано ОЭМК • СГОК • ЛГОК • НЛМК', 'PlatformName': 216}, {'CountOfClient': 'Росляково | Общение, новости, реклама', 'PlatformName': 360}, {'CountOfClient': 'Бухгалтерия и налоги | Бесплатная консультация', 'PlatformName': 432}, {'CountOfClient': 'ЖК Юнтолово | Неофициальная группа', 'PlatformName': 1440}]]\n"
     ]
    }
   ],
   "source": [
    "listDict = []\n",
    "for i in range(len(listJSONFiles)):\n",
    "    listDictVar = []\n",
    "    with open(listJSONFiles[i], 'r') as file:\n",
    "        listDictVar.append(json.load(file))\n",
    "    listDict.append(listDictVar[0])\n",
    "print(listDict)"
   ]
  },
  {
   "cell_type": "code",
   "execution_count": 14,
   "metadata": {},
   "outputs": [],
   "source": [
    "with open('ZippedJSON.json', 'w') as file:\n",
    "    file.write(json.dumps(listDict,indent=1))"
   ]
  },
  {
   "cell_type": "code",
   "execution_count": null,
   "metadata": {},
   "outputs": [],
   "source": []
  }
 ],
 "metadata": {
  "kernelspec": {
   "display_name": "Python 3.8.10 64-bit (windows store)",
   "language": "python",
   "name": "python3"
  },
  "language_info": {
   "codemirror_mode": {
    "name": "ipython",
    "version": 3
   },
   "file_extension": ".py",
   "mimetype": "text/x-python",
   "name": "python",
   "nbconvert_exporter": "python",
   "pygments_lexer": "ipython3",
   "version": "3.8.10"
  },
  "orig_nbformat": 4,
  "vscode": {
   "interpreter": {
    "hash": "a4c666bb8bcca651d5f0a1a5c18ce420848431a9af5daeb4843d708669ed8004"
   }
  }
 },
 "nbformat": 4,
 "nbformat_minor": 2
}
