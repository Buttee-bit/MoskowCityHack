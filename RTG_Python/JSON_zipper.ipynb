{
 "cells": [
  {
   "cell_type": "code",
   "execution_count": 7,
   "metadata": {},
   "outputs": [],
   "source": [
    "import glob\n",
    "import json\n",
    "\n",
    "listJSONFiles = glob.glob('./JSON_RTG/*.json')"
   ]
  },
  {
   "cell_type": "code",
   "execution_count": 8,
   "metadata": {},
   "outputs": [
    {
     "data": {
      "text/plain": [
       "['./JSON_RTG\\\\Age.json',\n",
       " './JSON_RTG\\\\avrBalance.json',\n",
       " './JSON_RTG\\\\CreditCardCount.json',\n",
       " './JSON_RTG\\\\Gender.json',\n",
       " './JSON_RTG\\\\MedianBalance.json',\n",
       " './JSON_RTG\\\\MidAvrBankUseTime.json',\n",
       " './JSON_RTG\\\\NewBankCard.json']"
      ]
     },
     "execution_count": 8,
     "metadata": {},
     "output_type": "execute_result"
    }
   ],
   "source": [
    "listJSONFiles"
   ]
  },
  {
   "cell_type": "code",
   "execution_count": 9,
   "metadata": {},
   "outputs": [
    {
     "name": "stdout",
     "output_type": "stream",
     "text": [
      "[[{'Age': '14-16', 'Percent': 0.0}, {'Age': '16-23', 'Percent': 6.91}, {'Age': '23-30', 'Percent': 11.7}, {'Age': '30-37', 'Percent': 18.67}, {'Age': '37-44', 'Percent': 19.88}, {'Age': '44-51', 'Percent': 15.92}, {'Age': '51-58', 'Percent': 11.76}, {'Age': '58-65', 'Percent': 9.34}, {'Age': '65-72', 'Percent': 4.16}, {'Age': '72-79', 'Percent': 1.28}, {'Age': '79-86', 'Percent': 0.38}, {'Age': '86-93', 'Percent': 0.0}], [{'avrBalance': 2950.0}], [{'CardType': 1, 'CardCount': 0.0}, {'CardType': 2, 'CardCount': 33.33}, {'CardType': 3, 'CardCount': 0.0}, {'CardType': '4+', 'CardCount': 66.67}], [{'Gender': 'F', 'Percent': 53.58}, {'Gender': 'M', 'Percent': 46.42}], [{'MedianDebetTurnSum': 29900, 'MedianCreditTurnSum': 25000}], [{'MidAvrBankUseTime': 1.0}], [{'SystemName': 'MIR', 'Percent': 22.6}, {'SystemName': 'Visa', 'Percent': 62.9}, {'SystemName': 'MasterCard', 'Percent': 13.0}, {'SystemName': 'Maestro', 'Percent': 0.0}, {'SystemName': 'Other', 'Percent': 1.5}]]\n"
     ]
    }
   ],
   "source": [
    "listDict = []\n",
    "for i in range(len(listJSONFiles)):\n",
    "    listDictVar = []\n",
    "    with open(listJSONFiles[i], 'r') as file:\n",
    "        listDictVar.append(json.load(file))\n",
    "    listDict.append(listDictVar[0])\n",
    "print(listDict)"
   ]
  },
  {
   "cell_type": "code",
   "execution_count": 10,
   "metadata": {},
   "outputs": [],
   "source": [
    "with open('ZippedJSON.json', 'w') as file:\n",
    "    file.write(json.dumps(listDict,indent=1))"
   ]
  },
  {
   "cell_type": "code",
   "execution_count": null,
   "metadata": {},
   "outputs": [],
   "source": []
  }
 ],
 "metadata": {
  "kernelspec": {
   "display_name": "Python 3.8.10 64-bit (windows store)",
   "language": "python",
   "name": "python3"
  },
  "language_info": {
   "codemirror_mode": {
    "name": "ipython",
    "version": 3
   },
   "file_extension": ".py",
   "mimetype": "text/x-python",
   "name": "python",
   "nbconvert_exporter": "python",
   "pygments_lexer": "ipython3",
   "version": "3.8.10"
  },
  "orig_nbformat": 4,
  "vscode": {
   "interpreter": {
    "hash": "a4c666bb8bcca651d5f0a1a5c18ce420848431a9af5daeb4843d708669ed8004"
   }
  }
 },
 "nbformat": 4,
 "nbformat_minor": 2
}
