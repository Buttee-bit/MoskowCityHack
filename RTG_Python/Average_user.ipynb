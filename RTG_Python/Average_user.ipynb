{
 "cells": [
  {
   "cell_type": "code",
   "execution_count": 1,
   "metadata": {},
   "outputs": [],
   "source": [
    "import pandas as pd\n",
    "import datetime\n",
    "import json\n",
    "import os\n",
    "os.mkdir(\"JSON_RTG\")"
   ]
  },
  {
   "cell_type": "code",
   "execution_count": 2,
   "metadata": {},
   "outputs": [],
   "source": [
    "def get_compressedData(listContent_One : list, listContent_Two : list, listHead : list):\n",
    "    listVar = []\n",
    "    for i in range(min(len(listContent_One), len(listContent_Two))):\n",
    "        listVar.append( {listHead[0]:listContent_One[i], listHead[1]:listContent_Two[i]} )\n",
    "    return listVar"
   ]
  },
  {
   "cell_type": "code",
   "execution_count": 3,
   "metadata": {},
   "outputs": [],
   "source": [
    "def save_fileInJSON(content ,strRoot : str, mode = 'w'):\n",
    "    with open(strRoot,mode) as file:\n",
    "        file.write(json.dumps(content))"
   ]
  },
  {
   "cell_type": "code",
   "execution_count": 4,
   "metadata": {},
   "outputs": [],
   "source": [
    "def get_SystSampl( TotalCount, flRate = 0.45):\n",
    "    if type(TotalCount) == int:\n",
    "         return round(TotalCount*flRate)\n",
    "    else:\n",
    "        intVar = TotalCount.shape[0]\n",
    "        return round(intVar*flRate)"
   ]
  },
  {
   "cell_type": "code",
   "execution_count": 5,
   "metadata": {},
   "outputs": [],
   "source": [
    "data = pd.read_csv('RTG_CSV.csv').drop(['Unnamed: 0', 'Unnamed: 0.1'],axis=1)"
   ]
  },
  {
   "cell_type": "code",
   "execution_count": 6,
   "metadata": {},
   "outputs": [],
   "source": [
    "data.loc[data.gender == 'М', \"gender\"] = 'M'\n",
    "data.loc[data.gender == 'Ж', \"gender\"] = 'F'"
   ]
  },
  {
   "cell_type": "code",
   "execution_count": 7,
   "metadata": {},
   "outputs": [
    {
     "data": {
      "text/html": [
       "<div>\n",
       "<style scoped>\n",
       "    .dataframe tbody tr th:only-of-type {\n",
       "        vertical-align: middle;\n",
       "    }\n",
       "\n",
       "    .dataframe tbody tr th {\n",
       "        vertical-align: top;\n",
       "    }\n",
       "\n",
       "    .dataframe thead th {\n",
       "        text-align: right;\n",
       "    }\n",
       "</style>\n",
       "<table border=\"1\" class=\"dataframe\">\n",
       "  <thead>\n",
       "    <tr style=\"text-align: right;\">\n",
       "      <th></th>\n",
       "      <th>client_id</th>\n",
       "      <th>gender</th>\n",
       "      <th>birth_date</th>\n",
       "      <th>create_date</th>\n",
       "      <th>nonresident_flag</th>\n",
       "      <th>city</th>\n",
       "      <th>contract_sum</th>\n",
       "      <th>product_category_name</th>\n",
       "      <th>card_id</th>\n",
       "      <th>card_type_name</th>\n",
       "      <th>start_date</th>\n",
       "      <th>fact_close_date</th>\n",
       "      <th>purchase_sum</th>\n",
       "      <th>purchase_count</th>\n",
       "      <th>current_balance_avg_sum</th>\n",
       "      <th>current_balance_sum</th>\n",
       "      <th>current_debit_turn_sum</th>\n",
       "      <th>current_credit_turn_sum</th>\n",
       "      <th>card_type</th>\n",
       "    </tr>\n",
       "  </thead>\n",
       "  <tbody>\n",
       "    <tr>\n",
       "      <th>0</th>\n",
       "      <td>d871ef96820b6c7a1ada8e01a772724e</td>\n",
       "      <td>F</td>\n",
       "      <td>1982</td>\n",
       "      <td>2006-12-25</td>\n",
       "      <td>R</td>\n",
       "      <td>Юрга</td>\n",
       "      <td>0</td>\n",
       "      <td>Договор на текущий счет для дебетовой карты</td>\n",
       "      <td>429ca8c43cdc5f3d8c9efc9069ee3fa6</td>\n",
       "      <td>-1</td>\n",
       "      <td>-1</td>\n",
       "      <td>-1</td>\n",
       "      <td>0</td>\n",
       "      <td>0</td>\n",
       "      <td>0</td>\n",
       "      <td>0</td>\n",
       "      <td>0</td>\n",
       "      <td>0</td>\n",
       "      <td>dc</td>\n",
       "    </tr>\n",
       "    <tr>\n",
       "      <th>1</th>\n",
       "      <td>c79f7d18334216f7bd6c40a05e4a0335</td>\n",
       "      <td>F</td>\n",
       "      <td>1980</td>\n",
       "      <td>2015-06-19</td>\n",
       "      <td>R</td>\n",
       "      <td>Октябрьский</td>\n",
       "      <td>0</td>\n",
       "      <td>Договор на текущий счет для дебетовой карты</td>\n",
       "      <td>e3baaf11e34b13c3cbb93fd6e2f6096e</td>\n",
       "      <td>МИР Debit</td>\n",
       "      <td>2019</td>\n",
       "      <td>-1</td>\n",
       "      <td>0</td>\n",
       "      <td>0</td>\n",
       "      <td>12700</td>\n",
       "      <td>1000</td>\n",
       "      <td>15000</td>\n",
       "      <td>7800</td>\n",
       "      <td>dc</td>\n",
       "    </tr>\n",
       "    <tr>\n",
       "      <th>2</th>\n",
       "      <td>192b644dd9fc46129e60c2f2f73b851c</td>\n",
       "      <td>F</td>\n",
       "      <td>1961</td>\n",
       "      <td>2010-06-04</td>\n",
       "      <td>R</td>\n",
       "      <td>Калтан</td>\n",
       "      <td>0</td>\n",
       "      <td>Договор на текущий счет для дебетовой карты</td>\n",
       "      <td>64c45e9c29fa78a6245ecd2a045c015e</td>\n",
       "      <td>МИР Debit</td>\n",
       "      <td>2018</td>\n",
       "      <td>2019</td>\n",
       "      <td>0</td>\n",
       "      <td>0</td>\n",
       "      <td>0</td>\n",
       "      <td>0</td>\n",
       "      <td>0</td>\n",
       "      <td>0</td>\n",
       "      <td>dc</td>\n",
       "    </tr>\n",
       "    <tr>\n",
       "      <th>3</th>\n",
       "      <td>47a1ae7b4e5ce46e69497b59dc87f45e</td>\n",
       "      <td>F</td>\n",
       "      <td>1969</td>\n",
       "      <td>2018-02-05</td>\n",
       "      <td>R</td>\n",
       "      <td>Прокопьевск</td>\n",
       "      <td>0</td>\n",
       "      <td>Договор на текущий счет для дебетовой карты</td>\n",
       "      <td>1e61472d87e87e4c7a64d9c14351a5c7</td>\n",
       "      <td>-1</td>\n",
       "      <td>-1</td>\n",
       "      <td>-1</td>\n",
       "      <td>0</td>\n",
       "      <td>0</td>\n",
       "      <td>0</td>\n",
       "      <td>0</td>\n",
       "      <td>0</td>\n",
       "      <td>0</td>\n",
       "      <td>dc</td>\n",
       "    </tr>\n",
       "    <tr>\n",
       "      <th>4</th>\n",
       "      <td>c0558c09e6d8967a4f7da4e631af0931</td>\n",
       "      <td>F</td>\n",
       "      <td>1992</td>\n",
       "      <td>2018-02-09</td>\n",
       "      <td>R</td>\n",
       "      <td>Уфа</td>\n",
       "      <td>0</td>\n",
       "      <td>Договор на текущий счет для дебетовой карты</td>\n",
       "      <td>29aef8d895f0ba76f3493b58996acd89</td>\n",
       "      <td>МИР Debit</td>\n",
       "      <td>2021</td>\n",
       "      <td>-1</td>\n",
       "      <td>1100</td>\n",
       "      <td>1</td>\n",
       "      <td>400</td>\n",
       "      <td>0</td>\n",
       "      <td>2900</td>\n",
       "      <td>2900</td>\n",
       "      <td>dc</td>\n",
       "    </tr>\n",
       "    <tr>\n",
       "      <th>...</th>\n",
       "      <td>...</td>\n",
       "      <td>...</td>\n",
       "      <td>...</td>\n",
       "      <td>...</td>\n",
       "      <td>...</td>\n",
       "      <td>...</td>\n",
       "      <td>...</td>\n",
       "      <td>...</td>\n",
       "      <td>...</td>\n",
       "      <td>...</td>\n",
       "      <td>...</td>\n",
       "      <td>...</td>\n",
       "      <td>...</td>\n",
       "      <td>...</td>\n",
       "      <td>...</td>\n",
       "      <td>...</td>\n",
       "      <td>...</td>\n",
       "      <td>...</td>\n",
       "      <td>...</td>\n",
       "    </tr>\n",
       "    <tr>\n",
       "      <th>9477</th>\n",
       "      <td>9acb18399b830419bac9653b52754646</td>\n",
       "      <td>M</td>\n",
       "      <td>1986</td>\n",
       "      <td>2015-05-20</td>\n",
       "      <td>R</td>\n",
       "      <td>Уфа</td>\n",
       "      <td>0</td>\n",
       "      <td>Договор на текущий счет для дебетовой карты</td>\n",
       "      <td>d090cb20c22e2643ec366daf8d26d646</td>\n",
       "      <td>-1</td>\n",
       "      <td>-1</td>\n",
       "      <td>-1</td>\n",
       "      <td>0</td>\n",
       "      <td>0</td>\n",
       "      <td>0</td>\n",
       "      <td>0</td>\n",
       "      <td>0</td>\n",
       "      <td>0</td>\n",
       "      <td>dc</td>\n",
       "    </tr>\n",
       "    <tr>\n",
       "      <th>9478</th>\n",
       "      <td>8b3206ca8d77aa2446824971f47c531b</td>\n",
       "      <td>F</td>\n",
       "      <td>1996</td>\n",
       "      <td>2022-04-28</td>\n",
       "      <td>R</td>\n",
       "      <td>Казань</td>\n",
       "      <td>30000</td>\n",
       "      <td>Кредитная карта</td>\n",
       "      <td>5a0041efbd5832765caf8b9f861bffa3</td>\n",
       "      <td>-1</td>\n",
       "      <td>-1</td>\n",
       "      <td>-1</td>\n",
       "      <td>22700</td>\n",
       "      <td>7</td>\n",
       "      <td>0</td>\n",
       "      <td>0</td>\n",
       "      <td>22700</td>\n",
       "      <td>22700</td>\n",
       "      <td>dc</td>\n",
       "    </tr>\n",
       "    <tr>\n",
       "      <th>9479</th>\n",
       "      <td>d69d3201104ab393c0638839a7284ad7</td>\n",
       "      <td>M</td>\n",
       "      <td>1953</td>\n",
       "      <td>2018-08-08</td>\n",
       "      <td>R</td>\n",
       "      <td>Пятигорск</td>\n",
       "      <td>200000</td>\n",
       "      <td>Кредитная карта</td>\n",
       "      <td>a78c73e84e893179de17071583cf5084</td>\n",
       "      <td>-1</td>\n",
       "      <td>-1</td>\n",
       "      <td>-1</td>\n",
       "      <td>0</td>\n",
       "      <td>0</td>\n",
       "      <td>0</td>\n",
       "      <td>300</td>\n",
       "      <td>9900</td>\n",
       "      <td>10100</td>\n",
       "      <td>dc</td>\n",
       "    </tr>\n",
       "    <tr>\n",
       "      <th>9480</th>\n",
       "      <td>a936fb30e2268d2874cdcaa221032915</td>\n",
       "      <td>M</td>\n",
       "      <td>1997</td>\n",
       "      <td>2022-05-12</td>\n",
       "      <td>R</td>\n",
       "      <td>Кемерово</td>\n",
       "      <td>15000</td>\n",
       "      <td>Кредитная карта</td>\n",
       "      <td>e3304eaf55891a175b6abf8030b99da1</td>\n",
       "      <td>-1</td>\n",
       "      <td>-1</td>\n",
       "      <td>-1</td>\n",
       "      <td>15000</td>\n",
       "      <td>33</td>\n",
       "      <td>0</td>\n",
       "      <td>0</td>\n",
       "      <td>15000</td>\n",
       "      <td>15000</td>\n",
       "      <td>dc</td>\n",
       "    </tr>\n",
       "    <tr>\n",
       "      <th>9481</th>\n",
       "      <td>93237191eddf8dec77cc947c3c086358</td>\n",
       "      <td>F</td>\n",
       "      <td>1959</td>\n",
       "      <td>2012-07-19</td>\n",
       "      <td>R</td>\n",
       "      <td>Москва</td>\n",
       "      <td>30000</td>\n",
       "      <td>Кредитная карта</td>\n",
       "      <td>db7d3058f19b8bab645cf33efd86330d</td>\n",
       "      <td>-1</td>\n",
       "      <td>-1</td>\n",
       "      <td>-1</td>\n",
       "      <td>9900</td>\n",
       "      <td>19</td>\n",
       "      <td>0</td>\n",
       "      <td>0</td>\n",
       "      <td>29900</td>\n",
       "      <td>29900</td>\n",
       "      <td>dc</td>\n",
       "    </tr>\n",
       "  </tbody>\n",
       "</table>\n",
       "<p>9482 rows × 19 columns</p>\n",
       "</div>"
      ],
      "text/plain": [
       "                             client_id gender  birth_date create_date  \\\n",
       "0     d871ef96820b6c7a1ada8e01a772724e      F        1982  2006-12-25   \n",
       "1     c79f7d18334216f7bd6c40a05e4a0335      F        1980  2015-06-19   \n",
       "2     192b644dd9fc46129e60c2f2f73b851c      F        1961  2010-06-04   \n",
       "3     47a1ae7b4e5ce46e69497b59dc87f45e      F        1969  2018-02-05   \n",
       "4     c0558c09e6d8967a4f7da4e631af0931      F        1992  2018-02-09   \n",
       "...                                ...    ...         ...         ...   \n",
       "9477  9acb18399b830419bac9653b52754646      M        1986  2015-05-20   \n",
       "9478  8b3206ca8d77aa2446824971f47c531b      F        1996  2022-04-28   \n",
       "9479  d69d3201104ab393c0638839a7284ad7      M        1953  2018-08-08   \n",
       "9480  a936fb30e2268d2874cdcaa221032915      M        1997  2022-05-12   \n",
       "9481  93237191eddf8dec77cc947c3c086358      F        1959  2012-07-19   \n",
       "\n",
       "     nonresident_flag         city  contract_sum  \\\n",
       "0                   R         Юрга             0   \n",
       "1                   R  Октябрьский             0   \n",
       "2                   R       Калтан             0   \n",
       "3                   R  Прокопьевск             0   \n",
       "4                   R          Уфа             0   \n",
       "...               ...          ...           ...   \n",
       "9477                R          Уфа             0   \n",
       "9478                R       Казань         30000   \n",
       "9479                R    Пятигорск        200000   \n",
       "9480                R     Кемерово         15000   \n",
       "9481                R       Москва         30000   \n",
       "\n",
       "                            product_category_name  \\\n",
       "0     Договор на текущий счет для дебетовой карты   \n",
       "1     Договор на текущий счет для дебетовой карты   \n",
       "2     Договор на текущий счет для дебетовой карты   \n",
       "3     Договор на текущий счет для дебетовой карты   \n",
       "4     Договор на текущий счет для дебетовой карты   \n",
       "...                                           ...   \n",
       "9477  Договор на текущий счет для дебетовой карты   \n",
       "9478                              Кредитная карта   \n",
       "9479                              Кредитная карта   \n",
       "9480                              Кредитная карта   \n",
       "9481                              Кредитная карта   \n",
       "\n",
       "                               card_id card_type_name  start_date  \\\n",
       "0     429ca8c43cdc5f3d8c9efc9069ee3fa6             -1          -1   \n",
       "1     e3baaf11e34b13c3cbb93fd6e2f6096e      МИР Debit        2019   \n",
       "2     64c45e9c29fa78a6245ecd2a045c015e      МИР Debit        2018   \n",
       "3     1e61472d87e87e4c7a64d9c14351a5c7             -1          -1   \n",
       "4     29aef8d895f0ba76f3493b58996acd89      МИР Debit        2021   \n",
       "...                                ...            ...         ...   \n",
       "9477  d090cb20c22e2643ec366daf8d26d646             -1          -1   \n",
       "9478  5a0041efbd5832765caf8b9f861bffa3             -1          -1   \n",
       "9479  a78c73e84e893179de17071583cf5084             -1          -1   \n",
       "9480  e3304eaf55891a175b6abf8030b99da1             -1          -1   \n",
       "9481  db7d3058f19b8bab645cf33efd86330d             -1          -1   \n",
       "\n",
       "      fact_close_date  purchase_sum  purchase_count  current_balance_avg_sum  \\\n",
       "0                  -1             0               0                        0   \n",
       "1                  -1             0               0                    12700   \n",
       "2                2019             0               0                        0   \n",
       "3                  -1             0               0                        0   \n",
       "4                  -1          1100               1                      400   \n",
       "...               ...           ...             ...                      ...   \n",
       "9477               -1             0               0                        0   \n",
       "9478               -1         22700               7                        0   \n",
       "9479               -1             0               0                        0   \n",
       "9480               -1         15000              33                        0   \n",
       "9481               -1          9900              19                        0   \n",
       "\n",
       "      current_balance_sum  current_debit_turn_sum  current_credit_turn_sum  \\\n",
       "0                       0                       0                        0   \n",
       "1                    1000                   15000                     7800   \n",
       "2                       0                       0                        0   \n",
       "3                       0                       0                        0   \n",
       "4                       0                    2900                     2900   \n",
       "...                   ...                     ...                      ...   \n",
       "9477                    0                       0                        0   \n",
       "9478                    0                   22700                    22700   \n",
       "9479                  300                    9900                    10100   \n",
       "9480                    0                   15000                    15000   \n",
       "9481                    0                   29900                    29900   \n",
       "\n",
       "     card_type  \n",
       "0           dc  \n",
       "1           dc  \n",
       "2           dc  \n",
       "3           dc  \n",
       "4           dc  \n",
       "...        ...  \n",
       "9477        dc  \n",
       "9478        dc  \n",
       "9479        dc  \n",
       "9480        dc  \n",
       "9481        dc  \n",
       "\n",
       "[9482 rows x 19 columns]"
      ]
     },
     "execution_count": 7,
     "metadata": {},
     "output_type": "execute_result"
    }
   ],
   "source": [
    "data"
   ]
  },
  {
   "cell_type": "markdown",
   "metadata": {},
   "source": [
    "Суммарный остаток на карте"
   ]
  },
  {
   "cell_type": "code",
   "execution_count": 8,
   "metadata": {},
   "outputs": [],
   "source": [
    "avrBalance = data\n",
    "avrBalance = avrBalance.query(\"current_balance_avg_sum > 0\")\n",
    "avrBalance = avrBalance.current_balance_avg_sum\n",
    "avrBalance = avrBalance.sample(n=get_SystSampl(avrBalance))\n"
   ]
  },
  {
   "cell_type": "code",
   "execution_count": 9,
   "metadata": {},
   "outputs": [],
   "source": [
    "avrBalance = avrBalance.median()\n",
    "avrBalance = avrBalance.tolist()"
   ]
  },
  {
   "cell_type": "code",
   "execution_count": 10,
   "metadata": {},
   "outputs": [],
   "source": [
    "save_fileInJSON([{'avrBalance': avrBalance}], 'JSON_RTG/avrBalance.json')"
   ]
  },
  {
   "cell_type": "markdown",
   "metadata": {},
   "source": [
    "Мужчины / Женщины"
   ]
  },
  {
   "cell_type": "code",
   "execution_count": 11,
   "metadata": {},
   "outputs": [],
   "source": [
    "ManToWoman = data\n",
    "ManToWoman = ManToWoman.drop_duplicates(subset=['client_id'])\n",
    "ManToWoman = ManToWoman.sample(n=get_SystSampl(ManToWoman))\n",
    "ManToWoman = ManToWoman['gender'].value_counts()"
   ]
  },
  {
   "cell_type": "code",
   "execution_count": 50,
   "metadata": {},
   "outputs": [],
   "source": [
    "var = [ManToWoman.values][0][0].tolist() + [ManToWoman.values][0][1].tolist()\n",
    "listGender   = [(ManToWoman.index)[0],(ManToWoman.index)[1]]\n",
    "listPercent  = [ round([ManToWoman.values][0][0].tolist() * 100 / var,2), round([ManToWoman.values][0][1].tolist() * 100 / var,2)]\n",
    "listHead = ['Gender','Percent']\n",
    "save_fileInJSON(  get_compressedData( listGender, listPercent, listHead), 'JSON_RTG/Gender.json')"
   ]
  },
  {
   "cell_type": "markdown",
   "metadata": {},
   "source": [
    "Количество приобретённых карт за год"
   ]
  },
  {
   "cell_type": "code",
   "execution_count": 13,
   "metadata": {},
   "outputs": [],
   "source": [
    "now = datetime.datetime.now()"
   ]
  },
  {
   "cell_type": "code",
   "execution_count": 14,
   "metadata": {},
   "outputs": [],
   "source": [
    "cardTypeDF = data.query(f\"start_date >= {now.year}-1\")\n",
    "cardTypeDF = cardTypeDF.sample(n=get_SystSampl(cardTypeDF))"
   ]
  },
  {
   "cell_type": "code",
   "execution_count": 15,
   "metadata": {},
   "outputs": [],
   "source": [
    "listCardType = cardTypeDF['card_type_name'].unique()"
   ]
  },
  {
   "cell_type": "code",
   "execution_count": 16,
   "metadata": {},
   "outputs": [],
   "source": [
    "cardTypeDF = cardTypeDF['card_type_name'].value_counts()"
   ]
  },
  {
   "cell_type": "code",
   "execution_count": 17,
   "metadata": {},
   "outputs": [],
   "source": [
    "sum = cardTypeDF.values.sum()"
   ]
  },
  {
   "cell_type": "code",
   "execution_count": 18,
   "metadata": {},
   "outputs": [],
   "source": [
    "listCreditSys = ['МИР', 'MIR', 'Visa', 'MasterCard','Maestro','Other']\n",
    "listCreditSysCount = [0]*len(listCreditSys)"
   ]
  },
  {
   "cell_type": "code",
   "execution_count": 19,
   "metadata": {},
   "outputs": [],
   "source": [
    "for i in range(len(cardTypeDF.index)):\n",
    "    for j in range(len(listCreditSys)):\n",
    "        if (listCreditSys[j] in cardTypeDF.index[i]) or (listCreditSys[j] in cardTypeDF.index[i].capitalize()) : listCreditSysCount[j] += cardTypeDF.values[i]"
   ]
  },
  {
   "cell_type": "code",
   "execution_count": 20,
   "metadata": {},
   "outputs": [],
   "source": [
    "var = 0\n",
    "for i in range(len(listCreditSysCount)): var += listCreditSysCount[i]"
   ]
  },
  {
   "cell_type": "code",
   "execution_count": 21,
   "metadata": {},
   "outputs": [],
   "source": [
    "listCreditSysCount[len(listCreditSysCount[:-1])] = sum - var"
   ]
  },
  {
   "cell_type": "code",
   "execution_count": 22,
   "metadata": {},
   "outputs": [],
   "source": [
    "listCreditSys = listCreditSys[1:]\n",
    "listCreditSysCount[1] = listCreditSysCount[0] + listCreditSysCount[1]\n",
    "listCreditSysCount = listCreditSysCount[1:]"
   ]
  },
  {
   "cell_type": "code",
   "execution_count": 23,
   "metadata": {},
   "outputs": [],
   "source": [
    "for i in range(len(listCreditSysCount)): listCreditSysCount[i] = round(listCreditSysCount[i]*100/sum, 1)"
   ]
  },
  {
   "cell_type": "code",
   "execution_count": 24,
   "metadata": {},
   "outputs": [],
   "source": [
    "save_fileInJSON(get_compressedData(listCreditSys, listCreditSysCount,['SystemName','Percent']), 'JSON_RTG/NewBankCard.json')"
   ]
  },
  {
   "cell_type": "markdown",
   "metadata": {},
   "source": [
    "Кол-во действующих банковских карт у человека в среднем"
   ]
  },
  {
   "cell_type": "code",
   "execution_count": 25,
   "metadata": {},
   "outputs": [],
   "source": [
    "ValueCardData = data\n",
    "ValueCardData = ValueCardData.query(\"start_date != -1 & fact_close_date == -1\")\n",
    "ValueCardData = ValueCardData.drop(['purchase_sum','create_date', \"create_date\",'purchase_count','current_balance_avg_sum','current_balance_sum','current_debit_turn_sum','current_credit_turn_sum','contract_sum','gender','birth_date'], axis=1)\n",
    "ValueCardData = ValueCardData.drop(['card_type_name', 'start_date', 'fact_close_date', 'card_type', 'product_category_name', 'city', 'nonresident_flag'], axis=1)"
   ]
  },
  {
   "cell_type": "code",
   "execution_count": 26,
   "metadata": {},
   "outputs": [],
   "source": [
    "ValueCardData = ValueCardData.value_counts('client_id')"
   ]
  },
  {
   "cell_type": "code",
   "execution_count": 27,
   "metadata": {},
   "outputs": [],
   "source": [
    "ValueCardData = ValueCardData.drop_duplicates()\n",
    "ValueCardData = ValueCardData.sample(n=get_SystSampl(ValueCardData))"
   ]
  },
  {
   "cell_type": "code",
   "execution_count": 28,
   "metadata": {},
   "outputs": [],
   "source": [
    "listCreditCard = [1,2,3,\"4+\"]\n",
    "listCreditCardCount = [0]*len(listCreditCard)"
   ]
  },
  {
   "cell_type": "code",
   "execution_count": 29,
   "metadata": {},
   "outputs": [],
   "source": [
    "for i in range(len(ValueCardData.index)):\n",
    "        if ValueCardData[i] == 1:\n",
    "            listCreditCardCount[0] +=1\n",
    "        elif ValueCardData[i] == 2:\n",
    "            listCreditCardCount[1] +=1\n",
    "        elif ValueCardData[i] == 3:\n",
    "            listCreditCardCount[2] +=1\n",
    "        else:\n",
    "            listCreditCardCount[3] +=1"
   ]
  },
  {
   "cell_type": "code",
   "execution_count": 30,
   "metadata": {},
   "outputs": [],
   "source": [
    "intSum = 0\n",
    "for i in range(len(listCreditCardCount)) : intSum += listCreditCardCount[i]"
   ]
  },
  {
   "cell_type": "code",
   "execution_count": 31,
   "metadata": {},
   "outputs": [],
   "source": [
    "for i in range(len(listCreditCardCount)):\n",
    "    listCreditCardCount[i] = round(listCreditCardCount[i] * 100 / intSum,2)"
   ]
  },
  {
   "cell_type": "code",
   "execution_count": 32,
   "metadata": {},
   "outputs": [],
   "source": [
    "save_fileInJSON(get_compressedData(listCreditCard, listCreditCardCount,['CardType','CardCount']), 'JSON_RTG/CreditCardCount.json')"
   ]
  },
  {
   "cell_type": "markdown",
   "metadata": {},
   "source": [
    "Возраст пользователей "
   ]
  },
  {
   "cell_type": "code",
   "execution_count": 33,
   "metadata": {},
   "outputs": [],
   "source": [
    "ValueAgeData = data.query(\"start_date != -1 & fact_close_date == -1\")\n",
    "ValueAgeData = ValueAgeData.drop(['purchase_sum','create_date', \"create_date\",'purchase_count','current_balance_avg_sum','current_balance_sum','current_debit_turn_sum','current_credit_turn_sum','contract_sum','gender'], axis=1)\n",
    "ValueAgeData = ValueAgeData.drop(['card_type_name', 'start_date', 'fact_close_date', 'card_type', 'product_category_name', 'city', 'nonresident_flag','card_id'], axis=1)\n",
    "ValueAgeData = ValueAgeData.sample(n=get_SystSampl(ValueAgeData))"
   ]
  },
  {
   "cell_type": "code",
   "execution_count": 34,
   "metadata": {},
   "outputs": [],
   "source": [
    "def getlistEqualPartsOfNumberParts(intNub, intParts):\n",
    "  d, r = divmod(intNub, intParts)\n",
    "  return [d + (1 if i < r else 0) for i in range(intParts)]"
   ]
  },
  {
   "cell_type": "code",
   "execution_count": 35,
   "metadata": {},
   "outputs": [],
   "source": [
    "intMaxAge = 66"
   ]
  },
  {
   "cell_type": "code",
   "execution_count": 36,
   "metadata": {},
   "outputs": [],
   "source": [
    "listAgeZone = getlistEqualPartsOfNumberParts(100,14)"
   ]
  },
  {
   "cell_type": "code",
   "execution_count": 37,
   "metadata": {},
   "outputs": [],
   "source": [
    "listCountAgeZone = [0] * len(listAgeZone)\n",
    "listSrtAgeZone = []\n",
    "if listAgeZone[0] < 14: intLeft = 14-listAgeZone[0]\n",
    "intRigth = listAgeZone[0]\n",
    "intSum = 0"
   ]
  },
  {
   "cell_type": "code",
   "execution_count": 38,
   "metadata": {},
   "outputs": [],
   "source": [
    "for i in range(len(listAgeZone)-1):\n",
    "    intLeft += listAgeZone[i]\n",
    "    intRigth += listAgeZone[i+1]\n",
    "    listCountAgeZone[i] += ValueAgeData.query(f\"{now.year-intLeft} >= birth_date > {now.year-intRigth}\").shape[0]\n",
    "    intSum += listCountAgeZone[i]\n",
    "    listSrtAgeZone.append( str(str(intLeft) + '-' + str(intRigth)) )\n",
    "    if i == 0 : intLeft -= 14-listAgeZone[0]\n"
   ]
  },
  {
   "cell_type": "code",
   "execution_count": 39,
   "metadata": {},
   "outputs": [],
   "source": [
    "for i in range(len(listCountAgeZone)): listCountAgeZone[i] = round(listCountAgeZone[i]   * 100 / intSum,2)"
   ]
  },
  {
   "cell_type": "code",
   "execution_count": 40,
   "metadata": {},
   "outputs": [],
   "source": [
    "save_fileInJSON(get_compressedData(listSrtAgeZone[:-1], listCountAgeZone, ['Age','Percent'] ), 'JSON_RTG/Age.json')"
   ]
  },
  {
   "cell_type": "markdown",
   "metadata": {},
   "source": [
    "Сколько средний остаток за месяц по кредитным картам"
   ]
  },
  {
   "cell_type": "code",
   "execution_count": 41,
   "metadata": {},
   "outputs": [],
   "source": [
    "turnBalanceData = data\n",
    "turnBalanceData = turnBalanceData.drop([ 'gender', 'birth_date', 'create_date', 'nonresident_flag', 'city', 'contract_sum', 'card_type_name', 'start_date', 'fact_close_date'], axis=1)\n",
    "balanceData = turnBalanceData.drop_duplicates(subset='card_id')\n",
    "creditTurnBalanceData = turnBalanceData.query(\"current_credit_turn_sum > 0 & product_category_name == 'Договор на текущий счет для дебетовой карты'\")\n",
    "creditTurnBalanceData = creditTurnBalanceData.sample(n=get_SystSampl(creditTurnBalanceData))\n",
    "debetTurnBalanceData  = turnBalanceData.query(\"current_debit_turn_sum > 0  & product_category_name == 'Кредитная карта'\")\n",
    "debetTurnBalanceData = debetTurnBalanceData.sample(n=get_SystSampl(debetTurnBalanceData))\n",
    "#ValueAgeData = ValueAgeData.sample(n=get_SystSampl(ValueAgeData))"
   ]
  },
  {
   "cell_type": "code",
   "execution_count": 42,
   "metadata": {},
   "outputs": [
    {
     "data": {
      "text/plain": [
       "[370, 2219]"
      ]
     },
     "execution_count": 42,
     "metadata": {},
     "output_type": "execute_result"
    }
   ],
   "source": [
    "[debetTurnBalanceData.shape[0], creditTurnBalanceData.shape[0]]"
   ]
  },
  {
   "cell_type": "code",
   "execution_count": 43,
   "metadata": {},
   "outputs": [],
   "source": [
    "medianDebetTurnBalanceData = debetTurnBalanceData['current_debit_turn_sum'].median()\n",
    "medianCreditTurnBalanceData = creditTurnBalanceData['current_credit_turn_sum'].median()"
   ]
  },
  {
   "cell_type": "code",
   "execution_count": 44,
   "metadata": {},
   "outputs": [],
   "source": [
    "save_fileInJSON([ { 'MedianDebetTurnSum':int(medianDebetTurnBalanceData),'MedianCreditTurnSum':int(medianCreditTurnBalanceData) } ], 'JSON_RTG/MedianBalance.json')"
   ]
  },
  {
   "cell_type": "markdown",
   "metadata": {},
   "source": [
    "Среднее время пользование банком"
   ]
  },
  {
   "cell_type": "code",
   "execution_count": 45,
   "metadata": {},
   "outputs": [],
   "source": [
    "AvrTimeUse = data\n",
    "AvrTimeUse = AvrTimeUse[ ['client_id', 'card_id','start_date', 'fact_close_date'] ]\n",
    "AvrTimeUse = AvrTimeUse.query(\"start_date > 0\").sample(n=get_SystSampl(AvrTimeUse))\n",
    "AvrTimeUse['Sum'] = 0\n",
    "AvrTimeUse.loc[((AvrTimeUse.fact_close_date == -1)  ), \"fact_close_date\"] = now.year\n",
    "AvrTimeUse.Sum = AvrTimeUse.fact_close_date - AvrTimeUse.start_date"
   ]
  },
  {
   "cell_type": "code",
   "execution_count": 46,
   "metadata": {},
   "outputs": [],
   "source": [
    "medianAvrTimeUse = AvrTimeUse.Sum.median()"
   ]
  },
  {
   "cell_type": "code",
   "execution_count": 47,
   "metadata": {},
   "outputs": [
    {
     "data": {
      "text/plain": [
       "1.0"
      ]
     },
     "execution_count": 47,
     "metadata": {},
     "output_type": "execute_result"
    }
   ],
   "source": [
    "medianAvrTimeUse"
   ]
  },
  {
   "cell_type": "code",
   "execution_count": 48,
   "metadata": {},
   "outputs": [],
   "source": [
    "save_fileInJSON([{\"MidAvrBankUseTime\":medianAvrTimeUse}],'JSON_RTG/MidAvrBankUseTime.json')"
   ]
  }
 ],
 "metadata": {
  "kernelspec": {
   "display_name": "Python 3.8.10 64-bit (windows store)",
   "language": "python",
   "name": "python3"
  },
  "language_info": {
   "codemirror_mode": {
    "name": "ipython",
    "version": 3
   },
   "file_extension": ".py",
   "mimetype": "text/x-python",
   "name": "python",
   "nbconvert_exporter": "python",
   "pygments_lexer": "ipython3",
   "version": "3.8.10"
  },
  "orig_nbformat": 4,
  "vscode": {
   "interpreter": {
    "hash": "a4c666bb8bcca651d5f0a1a5c18ce420848431a9af5daeb4843d708669ed8004"
   }
  }
 },
 "nbformat": 4,
 "nbformat_minor": 2
}
