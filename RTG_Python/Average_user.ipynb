{
 "cells": [
  {
   "cell_type": "code",
   "execution_count": 1,
   "metadata": {},
   "outputs": [],
   "source": [
    "import pandas as pd\n",
    "import datetime\n",
    "import json\n",
    "import os\n",
    "os.mkdir(\"JSON_RTG\")"
   ]
  },
  {
   "cell_type": "code",
   "execution_count": 2,
   "metadata": {},
   "outputs": [],
   "source": [
    "def get_compressedData(listContent_One : list, listContent_Two : list, listHead : list):\n",
    "    listVar = []\n",
    "    for i in range(min(len(listContent_One), len(listContent_Two))):\n",
    "        listVar.append( {listHead[0]:listContent_One[i], listHead[1]:listContent_Two[i]} )\n",
    "    return listVar\n",
    "    "
   ]
  },
  {
   "cell_type": "code",
   "execution_count": 3,
   "metadata": {},
   "outputs": [],
   "source": [
    "def save_fileInJSON(content ,strRoot : str, mode = 'w'):\n",
    "    with open(strRoot,mode) as file:\n",
    "        file.write(json.dumps(content))\n",
    "        "
   ]
  },
  {
   "cell_type": "code",
   "execution_count": 4,
   "metadata": {},
   "outputs": [],
   "source": [
    "def get_SystSampl( TotalCount, flRate = 0.45):\n",
    "    if type(TotalCount) == int:\n",
    "         return round(TotalCount*flRate)\n",
    "    else:\n",
    "        intVar = TotalCount.shape[0]\n",
    "        return round(intVar*flRate)"
   ]
  },
  {
   "cell_type": "code",
   "execution_count": 5,
   "metadata": {},
   "outputs": [],
   "source": [
    "data = pd.read_csv('RTG_CSV.csv').drop(['Unnamed: 0', 'Unnamed: 0.1'],axis=1)"
   ]
  },
  {
   "cell_type": "code",
   "execution_count": 6,
   "metadata": {},
   "outputs": [],
   "source": [
    "data.loc[data.gender == 'М', \"gender\"] = 'M'\n",
    "data.loc[data.gender == 'Ж', \"gender\"] = 'F'"
   ]
  },
  {
   "cell_type": "markdown",
   "metadata": {},
   "source": [
    "Суммарный остаток на карте"
   ]
  },
  {
   "cell_type": "code",
   "execution_count": 8,
   "metadata": {},
   "outputs": [],
   "source": [
    "avrBalance = data\n",
    "avrBalance = avrBalance.query(\"current_balance_avg_sum > 0\")\n",
    "avrBalance = avrBalance.current_balance_avg_sum\n",
    "avrBalance = avrBalance.sample(n=get_SystSampl(avrBalance))\n"
   ]
  },
  {
   "cell_type": "code",
   "execution_count": 9,
   "metadata": {},
   "outputs": [],
   "source": [
    "avrBalance = avrBalance.median()\n",
    "avrBalance = avrBalance.tolist()"
   ]
  },
  {
   "cell_type": "code",
   "execution_count": 10,
   "metadata": {},
   "outputs": [],
   "source": [
    "save_fileInJSON([{'avrBalance': avrBalance}], 'JSON_RTG/avrBalance.json')"
   ]
  },
  {
   "cell_type": "markdown",
   "metadata": {},
   "source": [
    "Мужчины / Женщины"
   ]
  },
  {
   "cell_type": "code",
   "execution_count": 11,
   "metadata": {},
   "outputs": [],
   "source": [
    "ManToWoman = data\n",
    "ManToWoman = ManToWoman.drop_duplicates(subset=['client_id'])\n",
    "ManToWoman = ManToWoman.sample(n=get_SystSampl(ManToWoman))\n",
    "ManToWoman = ManToWoman['gender'].value_counts()"
   ]
  },
  {
   "cell_type": "code",
   "execution_count": 50,
   "metadata": {},
   "outputs": [],
   "source": [
    "var = [ManToWoman.values][0][0].tolist() + [ManToWoman.values][0][1].tolist()\n",
    "listGender   = [(ManToWoman.index)[0],(ManToWoman.index)[1]]\n",
    "listPercent  = [ round([ManToWoman.values][0][0].tolist() * 100 / var,2), round([ManToWoman.values][0][1].tolist() * 100 / var,2)]\n",
    "listHead = ['Gender','Percent']\n",
    "save_fileInJSON(  get_compressedData( listGender, listPercent, listHead), 'JSON_RTG/Gender.json')"
   ]
  },
  {
   "cell_type": "markdown",
   "metadata": {},
   "source": [
    "Количество приобретённых карт за год"
   ]
  },
  {
   "cell_type": "code",
   "execution_count": 13,
   "metadata": {},
   "outputs": [],
   "source": [
    "now = datetime.datetime.now()"
   ]
  },
  {
   "cell_type": "code",
   "execution_count": 14,
   "metadata": {},
   "outputs": [],
   "source": [
    "cardTypeDF = data.query(f\"start_date >= {now.year}-1\")\n",
    "cardTypeDF = cardTypeDF.sample(n=get_SystSampl(cardTypeDF))"
   ]
  },
  {
   "cell_type": "code",
   "execution_count": 15,
   "metadata": {},
   "outputs": [],
   "source": [
    "listCardType = cardTypeDF['card_type_name'].unique()"
   ]
  },
  {
   "cell_type": "code",
   "execution_count": 16,
   "metadata": {},
   "outputs": [],
   "source": [
    "cardTypeDF = cardTypeDF['card_type_name'].value_counts()"
   ]
  },
  {
   "cell_type": "code",
   "execution_count": 17,
   "metadata": {},
   "outputs": [],
   "source": [
    "sum = cardTypeDF.values.sum()"
   ]
  },
  {
   "cell_type": "code",
   "execution_count": 18,
   "metadata": {},
   "outputs": [],
   "source": [
    "listCreditSys = ['МИР', 'MIR', 'Visa', 'MasterCard','Maestro','Other']\n",
    "listCreditSysCount = [0]*len(listCreditSys)"
   ]
  },
  {
   "cell_type": "code",
   "execution_count": 19,
   "metadata": {},
   "outputs": [],
   "source": [
    "for i in range(len(cardTypeDF.index)):\n",
    "    for j in range(len(listCreditSys)):\n",
    "        if (listCreditSys[j] in cardTypeDF.index[i]) or (listCreditSys[j] in cardTypeDF.index[i].capitalize()) : listCreditSysCount[j] += cardTypeDF.values[i]"
   ]
  },
  {
   "cell_type": "code",
   "execution_count": 20,
   "metadata": {},
   "outputs": [],
   "source": [
    "var = 0\n",
    "for i in range(len(listCreditSysCount)): var += listCreditSysCount[i]"
   ]
  },
  {
   "cell_type": "code",
   "execution_count": 21,
   "metadata": {},
   "outputs": [],
   "source": [
    "listCreditSysCount[len(listCreditSysCount[:-1])] = sum - var"
   ]
  },
  {
   "cell_type": "code",
   "execution_count": 22,
   "metadata": {},
   "outputs": [],
   "source": [
    "listCreditSys = listCreditSys[1:]\n",
    "listCreditSysCount[1] = listCreditSysCount[0] + listCreditSysCount[1]\n",
    "listCreditSysCount = listCreditSysCount[1:]"
   ]
  },
  {
   "cell_type": "code",
   "execution_count": 23,
   "metadata": {},
   "outputs": [],
   "source": [
    "for i in range(len(listCreditSysCount)): listCreditSysCount[i] = round(listCreditSysCount[i]*100/sum, 1)"
   ]
  },
  {
   "cell_type": "code",
   "execution_count": 24,
   "metadata": {},
   "outputs": [],
   "source": [
    "save_fileInJSON(get_compressedData(listCreditSys, listCreditSysCount,['SystemName','Percent']), 'JSON_RTG/NewBankCard.json')"
   ]
  },
  {
   "cell_type": "markdown",
   "metadata": {},
   "source": [
    "Кол-во действующих банковских карт у человека в среднем"
   ]
  },
  {
   "cell_type": "code",
   "execution_count": 25,
   "metadata": {},
   "outputs": [],
   "source": [
    "ValueCardData = data\n",
    "ValueCardData = ValueCardData.query(\"start_date != -1 & fact_close_date == -1\")\n",
    "ValueCardData = ValueCardData.drop(['purchase_sum','create_date', \"create_date\",'purchase_count','current_balance_avg_sum','current_balance_sum','current_debit_turn_sum','current_credit_turn_sum','contract_sum','gender','birth_date'], axis=1)\n",
    "ValueCardData = ValueCardData.drop(['card_type_name', 'start_date', 'fact_close_date', 'card_type', 'product_category_name', 'city', 'nonresident_flag'], axis=1)"
   ]
  },
  {
   "cell_type": "code",
   "execution_count": 26,
   "metadata": {},
   "outputs": [],
   "source": [
    "ValueCardData = ValueCardData.value_counts('client_id')"
   ]
  },
  {
   "cell_type": "code",
   "execution_count": 27,
   "metadata": {},
   "outputs": [],
   "source": [
    "ValueCardData = ValueCardData.drop_duplicates()\n",
    "ValueCardData = ValueCardData.sample(n=get_SystSampl(ValueCardData))"
   ]
  },
  {
   "cell_type": "code",
   "execution_count": 28,
   "metadata": {},
   "outputs": [],
   "source": [
    "listCreditCard = [1,2,3,\"4+\"]\n",
    "listCreditCardCount = [0]*len(listCreditCard)"
   ]
  },
  {
   "cell_type": "code",
   "execution_count": 29,
   "metadata": {},
   "outputs": [],
   "source": [
    "for i in range(len(ValueCardData.index)):\n",
    "        if ValueCardData[i] == 1:\n",
    "            listCreditCardCount[0] +=1\n",
    "        elif ValueCardData[i] == 2:\n",
    "            listCreditCardCount[1] +=1\n",
    "        elif ValueCardData[i] == 3:\n",
    "            listCreditCardCount[2] +=1\n",
    "        else:\n",
    "            listCreditCardCount[3] +=1"
   ]
  },
  {
   "cell_type": "code",
   "execution_count": 30,
   "metadata": {},
   "outputs": [],
   "source": [
    "intSum = 0\n",
    "for i in range(len(listCreditCardCount)) : intSum += listCreditCardCount[i]"
   ]
  },
  {
   "cell_type": "code",
   "execution_count": 31,
   "metadata": {},
   "outputs": [],
   "source": [
    "for i in range(len(listCreditCardCount)):\n",
    "    listCreditCardCount[i] = round(listCreditCardCount[i] * 100 / intSum,2)"
   ]
  },
  {
   "cell_type": "code",
   "execution_count": 32,
   "metadata": {},
   "outputs": [],
   "source": [
    "save_fileInJSON(get_compressedData(listCreditCard, listCreditCardCount,['CardType','CardCount']), 'JSON_RTG/CreditCardCount.json')"
   ]
  },
  {
   "cell_type": "markdown",
   "metadata": {},
   "source": [
    "Возраст пользователей "
   ]
  },
  {
   "cell_type": "code",
   "execution_count": 33,
   "metadata": {},
   "outputs": [],
   "source": [
    "ValueAgeData = data.query(\"start_date != -1 & fact_close_date == -1\")\n",
    "ValueAgeData = ValueAgeData.drop(['purchase_sum','create_date', \"create_date\",'purchase_count','current_balance_avg_sum','current_balance_sum','current_debit_turn_sum','current_credit_turn_sum','contract_sum','gender'], axis=1)\n",
    "ValueAgeData = ValueAgeData.drop(['card_type_name', 'start_date', 'fact_close_date', 'card_type', 'product_category_name', 'city', 'nonresident_flag','card_id'], axis=1)\n",
    "ValueAgeData = ValueAgeData.sample(n=get_SystSampl(ValueAgeData))"
   ]
  },
  {
   "cell_type": "code",
   "execution_count": 34,
   "metadata": {},
   "outputs": [],
   "source": [
    "def getlistEqualPartsOfNumberParts(intNub, intParts):\n",
    "  d, r = divmod(intNub, intParts)\n",
    "  return [d + (1 if i < r else 0) for i in range(intParts)]"
   ]
  },
  {
   "cell_type": "code",
   "execution_count": 35,
   "metadata": {},
   "outputs": [],
   "source": [
    "intMaxAge = 66"
   ]
  },
  {
   "cell_type": "code",
   "execution_count": 36,
   "metadata": {},
   "outputs": [],
   "source": [
    "listAgeZone = getlistEqualPartsOfNumberParts(100,14)"
   ]
  },
  {
   "cell_type": "code",
   "execution_count": 37,
   "metadata": {},
   "outputs": [],
   "source": [
    "listCountAgeZone = [0] * len(listAgeZone)\n",
    "listSrtAgeZone = []\n",
    "if listAgeZone[0] < 14: intLeft = 14-listAgeZone[0]\n",
    "intRigth = listAgeZone[0]\n",
    "intSum = 0"
   ]
  },
  {
   "cell_type": "code",
   "execution_count": 38,
   "metadata": {},
   "outputs": [],
   "source": [
    "for i in range(len(listAgeZone)-1):\n",
    "    intLeft += listAgeZone[i]\n",
    "    intRigth += listAgeZone[i+1]\n",
    "    listCountAgeZone[i] += ValueAgeData.query(f\"{now.year-intLeft} >= birth_date > {now.year-intRigth}\").shape[0]\n",
    "    intSum += listCountAgeZone[i]\n",
    "    listSrtAgeZone.append( str(str(intLeft) + '-' + str(intRigth)) )\n",
    "    if i == 0 : intLeft -= 14-listAgeZone[0]\n"
   ]
  },
  {
   "cell_type": "code",
   "execution_count": 39,
   "metadata": {},
   "outputs": [],
   "source": [
    "for i in range(len(listCountAgeZone)): listCountAgeZone[i] = round(listCountAgeZone[i]   * 100 / intSum,2)"
   ]
  },
  {
   "cell_type": "code",
   "execution_count": 40,
   "metadata": {},
   "outputs": [],
   "source": [
    "save_fileInJSON(get_compressedData(listSrtAgeZone[:-1], listCountAgeZone, ['Age','Percent'] ), 'JSON_RTG/Age.json')"
   ]
  },
  {
   "cell_type": "markdown",
   "metadata": {},
   "source": [
    "Сколько средний остаток за месяц по кредитным картам"
   ]
  },
  {
   "cell_type": "code",
   "execution_count": 41,
   "metadata": {},
   "outputs": [],
   "source": [
    "turnBalanceData = data\n",
    "turnBalanceData = turnBalanceData.drop([ 'gender', 'birth_date', 'create_date', 'nonresident_flag', 'city', 'contract_sum', 'card_type_name', 'start_date', 'fact_close_date'], axis=1)\n",
    "balanceData = turnBalanceData.drop_duplicates(subset='card_id')\n",
    "creditTurnBalanceData = turnBalanceData.query(\"current_credit_turn_sum > 0 & product_category_name == 'Договор на текущий счет для дебетовой карты'\")\n",
    "creditTurnBalanceData = creditTurnBalanceData.sample(n=get_SystSampl(creditTurnBalanceData))\n",
    "debetTurnBalanceData  = turnBalanceData.query(\"current_debit_turn_sum > 0  & product_category_name == 'Кредитная карта'\")\n",
    "debetTurnBalanceData = debetTurnBalanceData.sample(n=get_SystSampl(debetTurnBalanceData))\n",
    "#ValueAgeData = ValueAgeData.sample(n=get_SystSampl(ValueAgeData))"
   ]
  },
  {
   "cell_type": "code",
   "execution_count": 42,
   "metadata": {},
   "outputs": [
    {
     "data": {
      "text/plain": [
       "[370, 2219]"
      ]
     },
     "execution_count": 42,
     "metadata": {},
     "output_type": "execute_result"
    }
   ],
   "source": [
    "[debetTurnBalanceData.shape[0], creditTurnBalanceData.shape[0]]"
   ]
  },
  {
   "cell_type": "code",
   "execution_count": 43,
   "metadata": {},
   "outputs": [],
   "source": [
    "medianDebetTurnBalanceData = debetTurnBalanceData['current_debit_turn_sum'].median()\n",
    "medianCreditTurnBalanceData = creditTurnBalanceData['current_credit_turn_sum'].median()"
   ]
  },
  {
   "cell_type": "code",
   "execution_count": 44,
   "metadata": {},
   "outputs": [],
   "source": [
    "save_fileInJSON([ { 'MedianDebetTurnSum':int(medianDebetTurnBalanceData),'MedianCreditTurnSum':int(medianCreditTurnBalanceData) } ], 'JSON_RTG/MedianBalance.json')"
   ]
  },
  {
   "cell_type": "markdown",
   "metadata": {},
   "source": [
    "Среднее время пользование банком"
   ]
  },
  {
   "cell_type": "code",
   "execution_count": 45,
   "metadata": {},
   "outputs": [],
   "source": [
    "AvrTimeUse = data\n",
    "AvrTimeUse = AvrTimeUse[ ['client_id', 'card_id','start_date', 'fact_close_date'] ]\n",
    "AvrTimeUse = AvrTimeUse.query(\"start_date > 0\").sample(n=get_SystSampl(AvrTimeUse))\n",
    "AvrTimeUse['Sum'] = 0\n",
    "AvrTimeUse.loc[((AvrTimeUse.fact_close_date == -1)  ), \"fact_close_date\"] = now.year\n",
    "AvrTimeUse.Sum = AvrTimeUse.fact_close_date - AvrTimeUse.start_date"
   ]
  },
  {
   "cell_type": "code",
   "execution_count": 46,
   "metadata": {},
   "outputs": [],
   "source": [
    "medianAvrTimeUse = AvrTimeUse.Sum.median()"
   ]
  },
  {
   "cell_type": "code",
   "execution_count": 47,
   "metadata": {},
   "outputs": [
    {
     "data": {
      "text/plain": [
       "1.0"
      ]
     },
     "execution_count": 47,
     "metadata": {},
     "output_type": "execute_result"
    }
   ],
   "source": [
    "medianAvrTimeUse"
   ]
  },
  {
   "cell_type": "code",
   "execution_count": 48,
   "metadata": {},
   "outputs": [],
   "source": [
    "save_fileInJSON([{\"MidAvrBankUseTime\":medianAvrTimeUse}],'JSON_RTG/MidAvrBankUseTime.json')"
   ]
  }
 ],
 "metadata": {
  "kernelspec": {
   "display_name": "Python 3.8.10 64-bit (windows store)",
   "language": "python",
   "name": "python3"
  },
  "language_info": {
   "codemirror_mode": {
    "name": "ipython",
    "version": 3
   },
   "file_extension": ".py",
   "mimetype": "text/x-python",
   "name": "python",
   "nbconvert_exporter": "python",
   "pygments_lexer": "ipython3",
   "version": "3.8.10"
  },
  "orig_nbformat": 4,
  "vscode": {
   "interpreter": {
    "hash": "a4c666bb8bcca651d5f0a1a5c18ce420848431a9af5daeb4843d708669ed8004"
   }
  }
 },
 "nbformat": 4,
 "nbformat_minor": 2
}
