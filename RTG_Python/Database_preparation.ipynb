{
 "cells": [
  {
   "cell_type": "markdown",
   "metadata": {},
   "source": [
    "Подготовка базы данных"
   ]
  },
  {
   "cell_type": "code",
   "execution_count": 1,
   "metadata": {},
   "outputs": [],
   "source": [
    "import pandas as pd\n",
    "import threading\n",
    "import sys"
   ]
  },
  {
   "cell_type": "code",
   "execution_count": 2,
   "metadata": {},
   "outputs": [],
   "source": [
    "data = pd.read_csv('Raw_data.csv')"
   ]
  },
  {
   "cell_type": "code",
   "execution_count": 3,
   "metadata": {},
   "outputs": [
    {
     "data": {
      "text/plain": [
       "(371583, 21)"
      ]
     },
     "execution_count": 3,
     "metadata": {},
     "output_type": "execute_result"
    }
   ],
   "source": [
    "data.shape"
   ]
  },
  {
   "cell_type": "code",
   "execution_count": 4,
   "metadata": {},
   "outputs": [],
   "source": [
    "data = data.query(\"businessman_flag == 0\")\n",
    "data = data.drop(['term','businessman_flag'], axis=1)"
   ]
  },
  {
   "cell_type": "code",
   "execution_count": 5,
   "metadata": {},
   "outputs": [],
   "source": [
    "data = data.fillna({'start_date': -1, 'fact_close_date': -1, 'card_type_name':-1})"
   ]
  },
  {
   "cell_type": "code",
   "execution_count": 6,
   "metadata": {},
   "outputs": [],
   "source": [
    "data = data.astype({'start_date': int, 'fact_close_date': int , 'purchase_sum':int ,'purchase_sum':int ,'contract_sum':int , 'current_balance_avg_sum':int , 'current_balance_sum':int, 'current_debit_turn_sum':int, 'current_credit_turn_sum':int})"
   ]
  },
  {
   "cell_type": "code",
   "execution_count": 7,
   "metadata": {},
   "outputs": [
    {
     "data": {
      "text/plain": [
       "(371583, 19)"
      ]
     },
     "execution_count": 7,
     "metadata": {},
     "output_type": "execute_result"
    }
   ],
   "source": [
    "data.shape"
   ]
  },
  {
   "cell_type": "code",
   "execution_count": 8,
   "metadata": {},
   "outputs": [],
   "source": [
    "data = data.drop_duplicates() # Избавление от дубликатов записей"
   ]
  },
  {
   "cell_type": "markdown",
   "metadata": {},
   "source": [
    "Поиск валидных записей"
   ]
  },
  {
   "cell_type": "code",
   "execution_count": 9,
   "metadata": {},
   "outputs": [],
   "source": [
    "listUniqueCardID = data.card_id.unique()"
   ]
  },
  {
   "cell_type": "code",
   "execution_count": 10,
   "metadata": {},
   "outputs": [],
   "source": [
    "def getlistEqualPartsOfNumberParts(intNub, intParts):\n",
    "  d, r = divmod(intNub, intParts)\n",
    "  return [d + (1 if i < r else 0) for i in range(intParts)]"
   ]
  },
  {
   "cell_type": "code",
   "execution_count": 11,
   "metadata": {},
   "outputs": [],
   "source": [
    "def th_get_ActualUserData(gl_DataFrame, listUniqueCardID, intIndex):\n",
    "    local_UsersData = pd.DataFrame()\n",
    "    for i in range(len(listUniqueCardID)):\n",
    "        if float(i%100) == 0:\n",
    "            print(i)\n",
    "            \n",
    "        strPDCall = f\"card_id == '{listUniqueCardID[i]}'\" # Запрос\n",
    "\n",
    "        #f_Data = data.query(strPDCall)\n",
    "        #print( listUniqueCardID[i] , '-', f_Data.shape)\n",
    "\n",
    "        local_Data = data.query(strPDCall).drop_duplicates()\n",
    "        #print( listUniqueCardID[i] , '---', local_Data.shape,'\\n')\n",
    "\n",
    "        if (local_Data.shape[0] != 1):\n",
    "              \n",
    "            maxDebet =  local_Data['current_debit_turn_sum'].max()\n",
    "            maxCredet = local_Data['current_credit_turn_sum'].max()\n",
    "            maxPurchaseCount = local_Data['purchase_count'].max()\n",
    "            \n",
    "            thisDB = local_Data.query(f\"current_debit_turn_sum == {maxDebet} & current_credit_turn_sum == {maxCredet} & purchase_count == {maxPurchaseCount}\")\n",
    "            \n",
    "        else:\n",
    "            thisDB = local_Data\n",
    "        \n",
    "        #print(i, \"-\", thisDB.shape, \"-\", listUniqueCardID[i],'\\n')\n",
    "\n",
    "        local_UsersData = pd.concat([local_UsersData, thisDB]) \n",
    "           \n",
    "        #print(local_UsersData.shape)\n",
    "\n",
    "    local_UsersData.to_csv(f'JSON/New_CSV_{intIndex}.csv')\n",
    "\n",
    "    gl_DataFrame = pd.concat([gl_DataFrame, local_UsersData]) \n",
    "    print(gl_DataFrame.shape)\n",
    "\n",
    "    print(f'Thread {intIndex} is done !')\n",
    "    sys.exit"
   ]
  },
  {
   "cell_type": "code",
   "execution_count": 12,
   "metadata": {},
   "outputs": [
    {
     "name": "stdout",
     "output_type": "stream",
     "text": [
      "Thread 0 from 0 to 502 is start - 502\n",
      "0\n",
      "Thread 1 from 503 to 1005 is start - 502\n",
      "0Thread 2 from 1006 to 1508 is start - 502\n",
      "\n",
      "0\n",
      "Thread 3 from 1509 to 2011 is start - 502\n",
      "0\n",
      "Thread 4 from 2012 to 2514 is start - 502\n",
      "0Thread 5 from 2515 to 3017 is start - 502\n",
      "0\n",
      "Thread 6 from 3018 to 3520 is start - 502\n",
      "\n",
      "0\n",
      "Thread 7 from 3521 to 4023 is start - 502\n",
      "0\n",
      "Thread 8 from 4024 to 4526 is start - 502\n",
      "0\n",
      "Thread 9 from 4527 to 5029 is start - 502\n",
      "0\n",
      "Thread 10 from 5030 to 5532 is start - 502\n",
      "0Thread 11 from 5533 to 6035 is start - 502\n",
      "\n",
      "0\n",
      "Thread 12 from 6036 to 6538 is start - 502\n",
      "0\n",
      "Thread 13 from 6539 to 7041 is start - 502\n",
      "0\n",
      "Thread 14 from 7042 to 7544 is start - 502\n",
      "0\n",
      "Thread 15 from 7545 to 8047 is start - 502\n",
      "0\n",
      "Thread 16 from 8048 to 8550 is start - 502\n",
      "0\n",
      "Thread 17 from 8551 to 9053 is start - 502\n",
      "0\n",
      "Thread 18 from 9054 to 9556 is start - 502\n",
      "0\n",
      "Thread 19 from 9557 to 10059 is start - 502\n",
      "0\n",
      "Thread 20 from 10060 to 10562 is start - 502\n",
      "0Thread 21 from 10563 to 11065 is start - 502\n",
      "\n",
      "0\n",
      "Thread 22 from 11066 to 11568 is start - 502\n",
      "0\n",
      "Thread 23 from 11569 to 12071 is start - 502\n",
      "0\n",
      "Thread 24 from 12072 to 12574 is start - 502\n",
      "0\n",
      "Thread 25 from 12575 to 13077 is start - 502\n",
      "0\n",
      "Thread 26 from 13078 to 13580 is start - 502\n",
      "0\n",
      "Thread 27 from 13581 to 14083 is start - 502\n",
      "0Thread 28 from 14084 to 14586 is start - 502\n",
      "0Thread 29 from 14587 to 15089 is start - 502\n",
      "\n",
      "\n",
      "0\n",
      "Thread 30 from 15090 to 15592 is start - 502\n",
      "0\n",
      "Thread 31 from 15593 to 16095 is start - 502\n",
      "0\n",
      "Thread 32 from 16096 to 16598 is start - 502\n",
      "0\n",
      "Thread 33 from 16599 to 17101 is start - 502\n",
      "0\n",
      "Thread 34 from 17102 to 17604 is start - 502\n",
      "0\n",
      "Thread 35 from 17605 to 18107 is start - 502\n",
      "0\n",
      "Thread 36 from 18108 to 18610 is start - 502\n",
      "0\n",
      "Thread 37 from 18611 to 19113 is start - 502\n",
      "0\n",
      "Thread 38 from 19114 to 19615 is start - 501\n",
      "0\n",
      "Thread 39 from 19616 to 20117 is start - 501\n",
      "0\n",
      "Thread 40 from 20118 to 20619 is start - 501\n",
      "0Thread 41 from 20620 to 21121 is start - 501\n",
      "\n",
      "0\n",
      "Thread 42 from 21122 to 21623 is start - 501\n",
      "0\n",
      "Thread 43 from 21624 to 22125 is start - 501\n",
      "0\n",
      "Thread 44 from 22126 to 22627 is start - 501\n",
      "0\n"
     ]
    }
   ],
   "source": [
    "listParts = getlistEqualPartsOfNumberParts(len(listUniqueCardID),int(len(listUniqueCardID)/800))\n",
    "listThreads = []\n",
    "intCount = 0\n",
    "gl_ActualUserData = pd.DataFrame()\n",
    "\n",
    "intOldTreadsCount = len(threading.enumerate())\n",
    "\n",
    "for i in range(len(listParts)):\n",
    "\n",
    "    if listParts[i] == 0 :\n",
    "        break\n",
    "    print(f'Thread {i} from {intCount} to {intCount+listParts[i]} is start - {listParts[i]}')\n",
    "    listThreads.append( threading.Thread( name=f'Thread_{i}', target=th_get_ActualUserData, args=(gl_ActualUserData, listUniqueCardID[ intCount: intCount+listParts[i] ],i , ) ))\n",
    "    intCount += listParts[i]+1\n",
    "    listThreads[i].start()"
   ]
  },
  {
   "cell_type": "code",
   "execution_count": 13,
   "metadata": {},
   "outputs": [
    {
     "ename": "FileNotFoundError",
     "evalue": "[Errno 2] No such file or directory: 'JSON/New_CSV_0.csv'",
     "output_type": "error",
     "traceback": [
      "\u001b[1;31m---------------------------------------------------------------------------\u001b[0m",
      "\u001b[1;31mFileNotFoundError\u001b[0m                         Traceback (most recent call last)",
      "\u001b[1;32mc:\\Users\\major\\Documents\\GitHub\\MoskowCityHack\\RTG_Python\\Database_preparation.ipynb Cell 15'\u001b[0m in \u001b[0;36m<module>\u001b[1;34m\u001b[0m\n\u001b[0;32m      <a href='vscode-notebook-cell:/c%3A/Users/major/Documents/GitHub/MoskowCityHack/RTG_Python/Database_preparation.ipynb#ch0000014?line=1'>2</a>\u001b[0m count \u001b[39m=\u001b[39m \u001b[39m0\u001b[39m\n\u001b[0;32m      <a href='vscode-notebook-cell:/c%3A/Users/major/Documents/GitHub/MoskowCityHack/RTG_Python/Database_preparation.ipynb#ch0000014?line=3'>4</a>\u001b[0m \u001b[39mfor\u001b[39;00m i \u001b[39min\u001b[39;00m \u001b[39mrange\u001b[39m(\u001b[39mlen\u001b[39m(listParts)):\n\u001b[1;32m----> <a href='vscode-notebook-cell:/c%3A/Users/major/Documents/GitHub/MoskowCityHack/RTG_Python/Database_preparation.ipynb#ch0000014?line=4'>5</a>\u001b[0m     gl_ActualUserData \u001b[39m=\u001b[39m pd\u001b[39m.\u001b[39mconcat([gl_ActualUserData, pd\u001b[39m.\u001b[39;49mread_csv(\u001b[39mf\u001b[39;49m\u001b[39m'\u001b[39;49m\u001b[39mJSON/New_CSV_\u001b[39;49m\u001b[39m{\u001b[39;49;00mi\u001b[39m}\u001b[39;49;00m\u001b[39m.csv\u001b[39;49m\u001b[39m'\u001b[39;49m)\u001b[39m.\u001b[39mdrop_duplicates()]) \n\u001b[0;32m      <a href='vscode-notebook-cell:/c%3A/Users/major/Documents/GitHub/MoskowCityHack/RTG_Python/Database_preparation.ipynb#ch0000014?line=5'>6</a>\u001b[0m     count \u001b[39m+\u001b[39m\u001b[39m=\u001b[39m pd\u001b[39m.\u001b[39mread_csv(\u001b[39mf\u001b[39m\u001b[39m'\u001b[39m\u001b[39mJSON/New_CSV_\u001b[39m\u001b[39m{\u001b[39;00mi\u001b[39m}\u001b[39;00m\u001b[39m.csv\u001b[39m\u001b[39m'\u001b[39m)\u001b[39m.\u001b[39mshape[\u001b[39m0\u001b[39m]\n\u001b[0;32m      <a href='vscode-notebook-cell:/c%3A/Users/major/Documents/GitHub/MoskowCityHack/RTG_Python/Database_preparation.ipynb#ch0000014?line=6'>7</a>\u001b[0m gl_ActualUserData\u001b[39m.\u001b[39mshape\n",
      "File \u001b[1;32m~\\AppData\\Local\\Packages\\PythonSoftwareFoundation.Python.3.8_qbz5n2kfra8p0\\LocalCache\\local-packages\\Python38\\site-packages\\pandas\\util\\_decorators.py:311\u001b[0m, in \u001b[0;36mdeprecate_nonkeyword_arguments.<locals>.decorate.<locals>.wrapper\u001b[1;34m(*args, **kwargs)\u001b[0m\n\u001b[0;32m    305\u001b[0m \u001b[39mif\u001b[39;00m \u001b[39mlen\u001b[39m(args) \u001b[39m>\u001b[39m num_allow_args:\n\u001b[0;32m    306\u001b[0m     warnings\u001b[39m.\u001b[39mwarn(\n\u001b[0;32m    307\u001b[0m         msg\u001b[39m.\u001b[39mformat(arguments\u001b[39m=\u001b[39marguments),\n\u001b[0;32m    308\u001b[0m         \u001b[39mFutureWarning\u001b[39;00m,\n\u001b[0;32m    309\u001b[0m         stacklevel\u001b[39m=\u001b[39mstacklevel,\n\u001b[0;32m    310\u001b[0m     )\n\u001b[1;32m--> 311\u001b[0m \u001b[39mreturn\u001b[39;00m func(\u001b[39m*\u001b[39;49margs, \u001b[39m*\u001b[39;49m\u001b[39m*\u001b[39;49mkwargs)\n",
      "File \u001b[1;32m~\\AppData\\Local\\Packages\\PythonSoftwareFoundation.Python.3.8_qbz5n2kfra8p0\\LocalCache\\local-packages\\Python38\\site-packages\\pandas\\io\\parsers\\readers.py:680\u001b[0m, in \u001b[0;36mread_csv\u001b[1;34m(filepath_or_buffer, sep, delimiter, header, names, index_col, usecols, squeeze, prefix, mangle_dupe_cols, dtype, engine, converters, true_values, false_values, skipinitialspace, skiprows, skipfooter, nrows, na_values, keep_default_na, na_filter, verbose, skip_blank_lines, parse_dates, infer_datetime_format, keep_date_col, date_parser, dayfirst, cache_dates, iterator, chunksize, compression, thousands, decimal, lineterminator, quotechar, quoting, doublequote, escapechar, comment, encoding, encoding_errors, dialect, error_bad_lines, warn_bad_lines, on_bad_lines, delim_whitespace, low_memory, memory_map, float_precision, storage_options)\u001b[0m\n\u001b[0;32m    665\u001b[0m kwds_defaults \u001b[39m=\u001b[39m _refine_defaults_read(\n\u001b[0;32m    666\u001b[0m     dialect,\n\u001b[0;32m    667\u001b[0m     delimiter,\n\u001b[1;32m   (...)\u001b[0m\n\u001b[0;32m    676\u001b[0m     defaults\u001b[39m=\u001b[39m{\u001b[39m\"\u001b[39m\u001b[39mdelimiter\u001b[39m\u001b[39m\"\u001b[39m: \u001b[39m\"\u001b[39m\u001b[39m,\u001b[39m\u001b[39m\"\u001b[39m},\n\u001b[0;32m    677\u001b[0m )\n\u001b[0;32m    678\u001b[0m kwds\u001b[39m.\u001b[39mupdate(kwds_defaults)\n\u001b[1;32m--> 680\u001b[0m \u001b[39mreturn\u001b[39;00m _read(filepath_or_buffer, kwds)\n",
      "File \u001b[1;32m~\\AppData\\Local\\Packages\\PythonSoftwareFoundation.Python.3.8_qbz5n2kfra8p0\\LocalCache\\local-packages\\Python38\\site-packages\\pandas\\io\\parsers\\readers.py:575\u001b[0m, in \u001b[0;36m_read\u001b[1;34m(filepath_or_buffer, kwds)\u001b[0m\n\u001b[0;32m    572\u001b[0m _validate_names(kwds\u001b[39m.\u001b[39mget(\u001b[39m\"\u001b[39m\u001b[39mnames\u001b[39m\u001b[39m\"\u001b[39m, \u001b[39mNone\u001b[39;00m))\n\u001b[0;32m    574\u001b[0m \u001b[39m# Create the parser.\u001b[39;00m\n\u001b[1;32m--> 575\u001b[0m parser \u001b[39m=\u001b[39m TextFileReader(filepath_or_buffer, \u001b[39m*\u001b[39;49m\u001b[39m*\u001b[39;49mkwds)\n\u001b[0;32m    577\u001b[0m \u001b[39mif\u001b[39;00m chunksize \u001b[39mor\u001b[39;00m iterator:\n\u001b[0;32m    578\u001b[0m     \u001b[39mreturn\u001b[39;00m parser\n",
      "File \u001b[1;32m~\\AppData\\Local\\Packages\\PythonSoftwareFoundation.Python.3.8_qbz5n2kfra8p0\\LocalCache\\local-packages\\Python38\\site-packages\\pandas\\io\\parsers\\readers.py:933\u001b[0m, in \u001b[0;36mTextFileReader.__init__\u001b[1;34m(self, f, engine, **kwds)\u001b[0m\n\u001b[0;32m    930\u001b[0m     \u001b[39mself\u001b[39m\u001b[39m.\u001b[39moptions[\u001b[39m\"\u001b[39m\u001b[39mhas_index_names\u001b[39m\u001b[39m\"\u001b[39m] \u001b[39m=\u001b[39m kwds[\u001b[39m\"\u001b[39m\u001b[39mhas_index_names\u001b[39m\u001b[39m\"\u001b[39m]\n\u001b[0;32m    932\u001b[0m \u001b[39mself\u001b[39m\u001b[39m.\u001b[39mhandles: IOHandles \u001b[39m|\u001b[39m \u001b[39mNone\u001b[39;00m \u001b[39m=\u001b[39m \u001b[39mNone\u001b[39;00m\n\u001b[1;32m--> 933\u001b[0m \u001b[39mself\u001b[39m\u001b[39m.\u001b[39m_engine \u001b[39m=\u001b[39m \u001b[39mself\u001b[39;49m\u001b[39m.\u001b[39;49m_make_engine(f, \u001b[39mself\u001b[39;49m\u001b[39m.\u001b[39;49mengine)\n",
      "File \u001b[1;32m~\\AppData\\Local\\Packages\\PythonSoftwareFoundation.Python.3.8_qbz5n2kfra8p0\\LocalCache\\local-packages\\Python38\\site-packages\\pandas\\io\\parsers\\readers.py:1217\u001b[0m, in \u001b[0;36mTextFileReader._make_engine\u001b[1;34m(self, f, engine)\u001b[0m\n\u001b[0;32m   1213\u001b[0m     mode \u001b[39m=\u001b[39m \u001b[39m\"\u001b[39m\u001b[39mrb\u001b[39m\u001b[39m\"\u001b[39m\n\u001b[0;32m   1214\u001b[0m \u001b[39m# error: No overload variant of \"get_handle\" matches argument types\u001b[39;00m\n\u001b[0;32m   1215\u001b[0m \u001b[39m# \"Union[str, PathLike[str], ReadCsvBuffer[bytes], ReadCsvBuffer[str]]\"\u001b[39;00m\n\u001b[0;32m   1216\u001b[0m \u001b[39m# , \"str\", \"bool\", \"Any\", \"Any\", \"Any\", \"Any\", \"Any\"\u001b[39;00m\n\u001b[1;32m-> 1217\u001b[0m \u001b[39mself\u001b[39m\u001b[39m.\u001b[39mhandles \u001b[39m=\u001b[39m get_handle(  \u001b[39m# type: ignore[call-overload]\u001b[39;49;00m\n\u001b[0;32m   1218\u001b[0m     f,\n\u001b[0;32m   1219\u001b[0m     mode,\n\u001b[0;32m   1220\u001b[0m     encoding\u001b[39m=\u001b[39;49m\u001b[39mself\u001b[39;49m\u001b[39m.\u001b[39;49moptions\u001b[39m.\u001b[39;49mget(\u001b[39m\"\u001b[39;49m\u001b[39mencoding\u001b[39;49m\u001b[39m\"\u001b[39;49m, \u001b[39mNone\u001b[39;49;00m),\n\u001b[0;32m   1221\u001b[0m     compression\u001b[39m=\u001b[39;49m\u001b[39mself\u001b[39;49m\u001b[39m.\u001b[39;49moptions\u001b[39m.\u001b[39;49mget(\u001b[39m\"\u001b[39;49m\u001b[39mcompression\u001b[39;49m\u001b[39m\"\u001b[39;49m, \u001b[39mNone\u001b[39;49;00m),\n\u001b[0;32m   1222\u001b[0m     memory_map\u001b[39m=\u001b[39;49m\u001b[39mself\u001b[39;49m\u001b[39m.\u001b[39;49moptions\u001b[39m.\u001b[39;49mget(\u001b[39m\"\u001b[39;49m\u001b[39mmemory_map\u001b[39;49m\u001b[39m\"\u001b[39;49m, \u001b[39mFalse\u001b[39;49;00m),\n\u001b[0;32m   1223\u001b[0m     is_text\u001b[39m=\u001b[39;49mis_text,\n\u001b[0;32m   1224\u001b[0m     errors\u001b[39m=\u001b[39;49m\u001b[39mself\u001b[39;49m\u001b[39m.\u001b[39;49moptions\u001b[39m.\u001b[39;49mget(\u001b[39m\"\u001b[39;49m\u001b[39mencoding_errors\u001b[39;49m\u001b[39m\"\u001b[39;49m, \u001b[39m\"\u001b[39;49m\u001b[39mstrict\u001b[39;49m\u001b[39m\"\u001b[39;49m),\n\u001b[0;32m   1225\u001b[0m     storage_options\u001b[39m=\u001b[39;49m\u001b[39mself\u001b[39;49m\u001b[39m.\u001b[39;49moptions\u001b[39m.\u001b[39;49mget(\u001b[39m\"\u001b[39;49m\u001b[39mstorage_options\u001b[39;49m\u001b[39m\"\u001b[39;49m, \u001b[39mNone\u001b[39;49;00m),\n\u001b[0;32m   1226\u001b[0m )\n\u001b[0;32m   1227\u001b[0m \u001b[39massert\u001b[39;00m \u001b[39mself\u001b[39m\u001b[39m.\u001b[39mhandles \u001b[39mis\u001b[39;00m \u001b[39mnot\u001b[39;00m \u001b[39mNone\u001b[39;00m\n\u001b[0;32m   1228\u001b[0m f \u001b[39m=\u001b[39m \u001b[39mself\u001b[39m\u001b[39m.\u001b[39mhandles\u001b[39m.\u001b[39mhandle\n",
      "File \u001b[1;32m~\\AppData\\Local\\Packages\\PythonSoftwareFoundation.Python.3.8_qbz5n2kfra8p0\\LocalCache\\local-packages\\Python38\\site-packages\\pandas\\io\\common.py:789\u001b[0m, in \u001b[0;36mget_handle\u001b[1;34m(path_or_buf, mode, encoding, compression, memory_map, is_text, errors, storage_options)\u001b[0m\n\u001b[0;32m    784\u001b[0m \u001b[39melif\u001b[39;00m \u001b[39misinstance\u001b[39m(handle, \u001b[39mstr\u001b[39m):\n\u001b[0;32m    785\u001b[0m     \u001b[39m# Check whether the filename is to be opened in binary mode.\u001b[39;00m\n\u001b[0;32m    786\u001b[0m     \u001b[39m# Binary mode does not support 'encoding' and 'newline'.\u001b[39;00m\n\u001b[0;32m    787\u001b[0m     \u001b[39mif\u001b[39;00m ioargs\u001b[39m.\u001b[39mencoding \u001b[39mand\u001b[39;00m \u001b[39m\"\u001b[39m\u001b[39mb\u001b[39m\u001b[39m\"\u001b[39m \u001b[39mnot\u001b[39;00m \u001b[39min\u001b[39;00m ioargs\u001b[39m.\u001b[39mmode:\n\u001b[0;32m    788\u001b[0m         \u001b[39m# Encoding\u001b[39;00m\n\u001b[1;32m--> 789\u001b[0m         handle \u001b[39m=\u001b[39m \u001b[39mopen\u001b[39;49m(\n\u001b[0;32m    790\u001b[0m             handle,\n\u001b[0;32m    791\u001b[0m             ioargs\u001b[39m.\u001b[39;49mmode,\n\u001b[0;32m    792\u001b[0m             encoding\u001b[39m=\u001b[39;49mioargs\u001b[39m.\u001b[39;49mencoding,\n\u001b[0;32m    793\u001b[0m             errors\u001b[39m=\u001b[39;49merrors,\n\u001b[0;32m    794\u001b[0m             newline\u001b[39m=\u001b[39;49m\u001b[39m\"\u001b[39;49m\u001b[39m\"\u001b[39;49m,\n\u001b[0;32m    795\u001b[0m         )\n\u001b[0;32m    796\u001b[0m     \u001b[39melse\u001b[39;00m:\n\u001b[0;32m    797\u001b[0m         \u001b[39m# Binary mode\u001b[39;00m\n\u001b[0;32m    798\u001b[0m         handle \u001b[39m=\u001b[39m \u001b[39mopen\u001b[39m(handle, ioargs\u001b[39m.\u001b[39mmode)\n",
      "\u001b[1;31mFileNotFoundError\u001b[0m: [Errno 2] No such file or directory: 'JSON/New_CSV_0.csv'"
     ]
    },
    {
     "name": "stdout",
     "output_type": "stream",
     "text": [
      "100\n",
      "100\n",
      "100\n",
      "100\n",
      "100\n",
      "100\n",
      "100\n",
      "100\n",
      "100\n",
      "100\n",
      "100\n",
      "100\n",
      "100\n",
      "100\n",
      "100\n",
      "100\n",
      "100\n",
      "100\n",
      "100\n",
      "100100\n",
      "\n",
      "100\n",
      "100\n",
      "100\n",
      "100\n",
      "100\n",
      "100\n",
      "100\n",
      "100\n",
      "100\n",
      "100\n",
      "100\n",
      "100\n",
      "100\n",
      "100\n",
      "100\n",
      "100\n",
      "100\n",
      "100\n",
      "100100\n",
      "\n",
      "100\n",
      "100\n",
      "100\n",
      "100\n",
      "200\n",
      "200\n",
      "200\n",
      "200\n",
      "200\n",
      "200\n",
      "200\n",
      "200\n",
      "200\n",
      "200\n",
      "200\n",
      "200\n",
      "200\n",
      "200200\n",
      "\n",
      "200\n",
      "200\n",
      "200\n",
      "200\n",
      "200\n",
      "200\n",
      "200200\n",
      "\n",
      "200\n",
      "200\n",
      "200\n",
      "200200\n",
      "200\n",
      "200\n",
      "\n",
      "200\n",
      "200\n",
      "200\n",
      "200\n",
      "200\n",
      "200\n",
      "200\n",
      "200\n",
      "200\n",
      "200\n",
      "200\n",
      "200\n",
      "200\n",
      "200\n",
      "200\n",
      "300\n",
      "300\n",
      "300\n",
      "300\n",
      "300300\n",
      "\n",
      "300\n",
      "300\n",
      "300\n",
      "300\n",
      "300\n",
      "300300\n",
      "\n",
      "300\n",
      "300\n",
      "300300\n",
      "300\n",
      "\n",
      "300\n",
      "300300\n",
      "\n",
      "300\n",
      "300\n",
      "300300\n",
      "300\n",
      "\n",
      "300\n",
      "300\n",
      "300\n",
      "300\n",
      "300\n",
      "300\n",
      "300\n",
      "300\n",
      "300\n",
      "300\n",
      "300\n",
      "300\n",
      "300\n",
      "300\n",
      "300\n",
      "300\n",
      "300300\n",
      "\n",
      "300\n"
     ]
    }
   ],
   "source": [
    "while(True):\n",
    "    if intOldTreadsCount == len(threading.enumerate()) : break\n",
    "\n",
    "gl_ActualUserData = pd.DataFrame()\n",
    "count = 0\n",
    "\n",
    "for i in range(len(listParts)):\n",
    "    gl_ActualUserData = pd.concat([gl_ActualUserData, pd.read_csv(f'JSON/New_CSV_{i}.csv').drop_duplicates()]) \n",
    "    count += pd.read_csv(f'JSON/New_CSV_{i}.csv').shape[0]\n",
    "gl_ActualUserData.shape"
   ]
  },
  {
   "cell_type": "code",
   "execution_count": null,
   "metadata": {},
   "outputs": [],
   "source": [
    "gl_ActualUserData.drop(['Unnamed: 0'], axis=1)"
   ]
  },
  {
   "cell_type": "code",
   "execution_count": null,
   "metadata": {},
   "outputs": [],
   "source": [
    "gl_ActualUserData.to_csv('RTG_CSV.csv')"
   ]
  }
 ],
 "metadata": {
  "kernelspec": {
   "display_name": "Python 3.8.10 64-bit (windows store)",
   "language": "python",
   "name": "python3"
  },
  "language_info": {
   "codemirror_mode": {
    "name": "ipython",
    "version": 3
   },
   "file_extension": ".py",
   "mimetype": "text/x-python",
   "name": "python",
   "nbconvert_exporter": "python",
   "pygments_lexer": "ipython3",
   "version": "3.8.10"
  },
  "orig_nbformat": 4,
  "vscode": {
   "interpreter": {
    "hash": "a4c666bb8bcca651d5f0a1a5c18ce420848431a9af5daeb4843d708669ed8004"
   }
  }
 },
 "nbformat": 4,
 "nbformat_minor": 2
}
