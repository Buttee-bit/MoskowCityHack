{
 "cells": [
  {
   "cell_type": "code",
   "execution_count": 7472,
   "metadata": {},
   "outputs": [],
   "source": [
    "import pandas as pd\n",
    "import datetime"
   ]
  },
  {
   "cell_type": "code",
   "execution_count": 7473,
   "metadata": {},
   "outputs": [],
   "source": [
    "def get_SystSampl( TotalCount, flRate = 0.45):\n",
    "    if type(TotalCount) == int:\n",
    "         return round(TotalCount*flRate)\n",
    "    else:\n",
    "        intVar = TotalCount.shape[0]\n",
    "        return round(intVar*flRate)"
   ]
  },
  {
   "cell_type": "code",
   "execution_count": 7475,
   "metadata": {},
   "outputs": [],
   "source": [
    "data = pd.read_csv('RTG_CSV.csv').drop(['Unnamed: 0', 'Unnamed: 0.1'],axis=1)"
   ]
  },
  {
   "cell_type": "code",
   "execution_count": 7476,
   "metadata": {},
   "outputs": [],
   "source": [
    "data.loc[data.gender == 'М', \"gender\"] = 'M'\n",
    "data.loc[data.gender == 'Ж', \"gender\"] = 'F'"
   ]
  },
  {
   "cell_type": "code",
   "execution_count": 7477,
   "metadata": {},
   "outputs": [
    {
     "data": {
      "text/html": [
       "<div>\n",
       "<style scoped>\n",
       "    .dataframe tbody tr th:only-of-type {\n",
       "        vertical-align: middle;\n",
       "    }\n",
       "\n",
       "    .dataframe tbody tr th {\n",
       "        vertical-align: top;\n",
       "    }\n",
       "\n",
       "    .dataframe thead th {\n",
       "        text-align: right;\n",
       "    }\n",
       "</style>\n",
       "<table border=\"1\" class=\"dataframe\">\n",
       "  <thead>\n",
       "    <tr style=\"text-align: right;\">\n",
       "      <th></th>\n",
       "      <th>client_id</th>\n",
       "      <th>gender</th>\n",
       "      <th>birth_date</th>\n",
       "      <th>create_date</th>\n",
       "      <th>nonresident_flag</th>\n",
       "      <th>city</th>\n",
       "      <th>contract_sum</th>\n",
       "      <th>product_category_name</th>\n",
       "      <th>card_id</th>\n",
       "      <th>card_type_name</th>\n",
       "      <th>start_date</th>\n",
       "      <th>fact_close_date</th>\n",
       "      <th>purchase_sum</th>\n",
       "      <th>purchase_count</th>\n",
       "      <th>current_balance_avg_sum</th>\n",
       "      <th>current_balance_sum</th>\n",
       "      <th>current_debit_turn_sum</th>\n",
       "      <th>current_credit_turn_sum</th>\n",
       "      <th>card_type</th>\n",
       "    </tr>\n",
       "  </thead>\n",
       "  <tbody>\n",
       "    <tr>\n",
       "      <th>0</th>\n",
       "      <td>fe60b594364f9f636266ed1ef4f89c32</td>\n",
       "      <td>F</td>\n",
       "      <td>1985</td>\n",
       "      <td>2020-01-29</td>\n",
       "      <td>R</td>\n",
       "      <td>Гусь-Хрустальный</td>\n",
       "      <td>0</td>\n",
       "      <td>Договор на текущий счет для дебетовой карты</td>\n",
       "      <td>a83cbc33f164deae41b3339141923cc7</td>\n",
       "      <td>Visa Platinum Rewards</td>\n",
       "      <td>2019</td>\n",
       "      <td>2021</td>\n",
       "      <td>16600</td>\n",
       "      <td>71</td>\n",
       "      <td>39700</td>\n",
       "      <td>25700</td>\n",
       "      <td>220600</td>\n",
       "      <td>201000</td>\n",
       "      <td>dc</td>\n",
       "    </tr>\n",
       "    <tr>\n",
       "      <th>1</th>\n",
       "      <td>3012cabca5885ed53d348d6e57dab5de</td>\n",
       "      <td>M</td>\n",
       "      <td>1951</td>\n",
       "      <td>2009-09-24</td>\n",
       "      <td>R</td>\n",
       "      <td>Ишимбай</td>\n",
       "      <td>0</td>\n",
       "      <td>Договор на текущий счет для дебетовой карты</td>\n",
       "      <td>8dae17a830bb05d151034df618efbcad</td>\n",
       "      <td>VISA Classic</td>\n",
       "      <td>2019</td>\n",
       "      <td>-1</td>\n",
       "      <td>4900</td>\n",
       "      <td>2</td>\n",
       "      <td>38000</td>\n",
       "      <td>26800</td>\n",
       "      <td>56300</td>\n",
       "      <td>31300</td>\n",
       "      <td>dc</td>\n",
       "    </tr>\n",
       "    <tr>\n",
       "      <th>2</th>\n",
       "      <td>d871ef96820b6c7a1ada8e01a772724e</td>\n",
       "      <td>F</td>\n",
       "      <td>1982</td>\n",
       "      <td>2006-12-25</td>\n",
       "      <td>R</td>\n",
       "      <td>Юрга</td>\n",
       "      <td>0</td>\n",
       "      <td>Договор на текущий счет для дебетовой карты</td>\n",
       "      <td>429ca8c43cdc5f3d8c9efc9069ee3fa6</td>\n",
       "      <td>NaN</td>\n",
       "      <td>-1</td>\n",
       "      <td>-1</td>\n",
       "      <td>0</td>\n",
       "      <td>0</td>\n",
       "      <td>0</td>\n",
       "      <td>0</td>\n",
       "      <td>0</td>\n",
       "      <td>0</td>\n",
       "      <td>dc</td>\n",
       "    </tr>\n",
       "    <tr>\n",
       "      <th>3</th>\n",
       "      <td>0bacbc2abd314f9fac031d249e485a7b</td>\n",
       "      <td>M</td>\n",
       "      <td>1955</td>\n",
       "      <td>2011-04-15</td>\n",
       "      <td>R</td>\n",
       "      <td>Томск</td>\n",
       "      <td>0</td>\n",
       "      <td>Договор на текущий счет для дебетовой карты</td>\n",
       "      <td>e7f4adb9187b867ebea15503298437a3</td>\n",
       "      <td>Visa Rewards</td>\n",
       "      <td>2021</td>\n",
       "      <td>-1</td>\n",
       "      <td>47800</td>\n",
       "      <td>12</td>\n",
       "      <td>0</td>\n",
       "      <td>0</td>\n",
       "      <td>51500</td>\n",
       "      <td>51500</td>\n",
       "      <td>cc</td>\n",
       "    </tr>\n",
       "    <tr>\n",
       "      <th>4</th>\n",
       "      <td>0bacbc2abd314f9fac031d249e485a7b</td>\n",
       "      <td>M</td>\n",
       "      <td>1955</td>\n",
       "      <td>2011-04-15</td>\n",
       "      <td>R</td>\n",
       "      <td>Томск</td>\n",
       "      <td>0</td>\n",
       "      <td>Договор на текущий счет для дебетовой карты</td>\n",
       "      <td>e7d13882154e965dca7070eb8d626f77</td>\n",
       "      <td>Eurocard/MasterCard World</td>\n",
       "      <td>2018</td>\n",
       "      <td>2022</td>\n",
       "      <td>47800</td>\n",
       "      <td>12</td>\n",
       "      <td>0</td>\n",
       "      <td>0</td>\n",
       "      <td>51500</td>\n",
       "      <td>51500</td>\n",
       "      <td>cc</td>\n",
       "    </tr>\n",
       "    <tr>\n",
       "      <th>...</th>\n",
       "      <td>...</td>\n",
       "      <td>...</td>\n",
       "      <td>...</td>\n",
       "      <td>...</td>\n",
       "      <td>...</td>\n",
       "      <td>...</td>\n",
       "      <td>...</td>\n",
       "      <td>...</td>\n",
       "      <td>...</td>\n",
       "      <td>...</td>\n",
       "      <td>...</td>\n",
       "      <td>...</td>\n",
       "      <td>...</td>\n",
       "      <td>...</td>\n",
       "      <td>...</td>\n",
       "      <td>...</td>\n",
       "      <td>...</td>\n",
       "      <td>...</td>\n",
       "      <td>...</td>\n",
       "    </tr>\n",
       "    <tr>\n",
       "      <th>16308</th>\n",
       "      <td>9acb18399b830419bac9653b52754646</td>\n",
       "      <td>M</td>\n",
       "      <td>1986</td>\n",
       "      <td>2015-05-20</td>\n",
       "      <td>R</td>\n",
       "      <td>Уфа</td>\n",
       "      <td>0</td>\n",
       "      <td>Договор на текущий счет для дебетовой карты</td>\n",
       "      <td>d090cb20c22e2643ec366daf8d26d646</td>\n",
       "      <td>NaN</td>\n",
       "      <td>-1</td>\n",
       "      <td>-1</td>\n",
       "      <td>0</td>\n",
       "      <td>0</td>\n",
       "      <td>0</td>\n",
       "      <td>0</td>\n",
       "      <td>0</td>\n",
       "      <td>0</td>\n",
       "      <td>dc</td>\n",
       "    </tr>\n",
       "    <tr>\n",
       "      <th>16309</th>\n",
       "      <td>8b3206ca8d77aa2446824971f47c531b</td>\n",
       "      <td>F</td>\n",
       "      <td>1996</td>\n",
       "      <td>2022-04-28</td>\n",
       "      <td>R</td>\n",
       "      <td>Казань</td>\n",
       "      <td>30000</td>\n",
       "      <td>Кредитная карта</td>\n",
       "      <td>5a0041efbd5832765caf8b9f861bffa3</td>\n",
       "      <td>NaN</td>\n",
       "      <td>-1</td>\n",
       "      <td>-1</td>\n",
       "      <td>22700</td>\n",
       "      <td>7</td>\n",
       "      <td>0</td>\n",
       "      <td>0</td>\n",
       "      <td>22700</td>\n",
       "      <td>22700</td>\n",
       "      <td>dc</td>\n",
       "    </tr>\n",
       "    <tr>\n",
       "      <th>16310</th>\n",
       "      <td>d69d3201104ab393c0638839a7284ad7</td>\n",
       "      <td>M</td>\n",
       "      <td>1953</td>\n",
       "      <td>2018-08-08</td>\n",
       "      <td>R</td>\n",
       "      <td>Пятигорск</td>\n",
       "      <td>200000</td>\n",
       "      <td>Кредитная карта</td>\n",
       "      <td>a78c73e84e893179de17071583cf5084</td>\n",
       "      <td>NaN</td>\n",
       "      <td>-1</td>\n",
       "      <td>-1</td>\n",
       "      <td>0</td>\n",
       "      <td>0</td>\n",
       "      <td>0</td>\n",
       "      <td>300</td>\n",
       "      <td>9900</td>\n",
       "      <td>10100</td>\n",
       "      <td>dc</td>\n",
       "    </tr>\n",
       "    <tr>\n",
       "      <th>16311</th>\n",
       "      <td>a936fb30e2268d2874cdcaa221032915</td>\n",
       "      <td>M</td>\n",
       "      <td>1997</td>\n",
       "      <td>2022-05-12</td>\n",
       "      <td>R</td>\n",
       "      <td>Кемерово</td>\n",
       "      <td>15000</td>\n",
       "      <td>Кредитная карта</td>\n",
       "      <td>e3304eaf55891a175b6abf8030b99da1</td>\n",
       "      <td>NaN</td>\n",
       "      <td>-1</td>\n",
       "      <td>-1</td>\n",
       "      <td>15000</td>\n",
       "      <td>33</td>\n",
       "      <td>0</td>\n",
       "      <td>0</td>\n",
       "      <td>15000</td>\n",
       "      <td>15000</td>\n",
       "      <td>dc</td>\n",
       "    </tr>\n",
       "    <tr>\n",
       "      <th>16312</th>\n",
       "      <td>93237191eddf8dec77cc947c3c086358</td>\n",
       "      <td>F</td>\n",
       "      <td>1959</td>\n",
       "      <td>2012-07-19</td>\n",
       "      <td>R</td>\n",
       "      <td>Москва</td>\n",
       "      <td>30000</td>\n",
       "      <td>Кредитная карта</td>\n",
       "      <td>db7d3058f19b8bab645cf33efd86330d</td>\n",
       "      <td>NaN</td>\n",
       "      <td>-1</td>\n",
       "      <td>-1</td>\n",
       "      <td>9900</td>\n",
       "      <td>19</td>\n",
       "      <td>0</td>\n",
       "      <td>0</td>\n",
       "      <td>29900</td>\n",
       "      <td>29900</td>\n",
       "      <td>dc</td>\n",
       "    </tr>\n",
       "  </tbody>\n",
       "</table>\n",
       "<p>16313 rows × 19 columns</p>\n",
       "</div>"
      ],
      "text/plain": [
       "                              client_id gender  birth_date create_date  \\\n",
       "0      fe60b594364f9f636266ed1ef4f89c32      F        1985  2020-01-29   \n",
       "1      3012cabca5885ed53d348d6e57dab5de      M        1951  2009-09-24   \n",
       "2      d871ef96820b6c7a1ada8e01a772724e      F        1982  2006-12-25   \n",
       "3      0bacbc2abd314f9fac031d249e485a7b      M        1955  2011-04-15   \n",
       "4      0bacbc2abd314f9fac031d249e485a7b      M        1955  2011-04-15   \n",
       "...                                 ...    ...         ...         ...   \n",
       "16308  9acb18399b830419bac9653b52754646      M        1986  2015-05-20   \n",
       "16309  8b3206ca8d77aa2446824971f47c531b      F        1996  2022-04-28   \n",
       "16310  d69d3201104ab393c0638839a7284ad7      M        1953  2018-08-08   \n",
       "16311  a936fb30e2268d2874cdcaa221032915      M        1997  2022-05-12   \n",
       "16312  93237191eddf8dec77cc947c3c086358      F        1959  2012-07-19   \n",
       "\n",
       "      nonresident_flag              city  contract_sum  \\\n",
       "0                    R  Гусь-Хрустальный             0   \n",
       "1                    R           Ишимбай             0   \n",
       "2                    R              Юрга             0   \n",
       "3                    R             Томск             0   \n",
       "4                    R             Томск             0   \n",
       "...                ...               ...           ...   \n",
       "16308                R               Уфа             0   \n",
       "16309                R            Казань         30000   \n",
       "16310                R         Пятигорск        200000   \n",
       "16311                R          Кемерово         15000   \n",
       "16312                R            Москва         30000   \n",
       "\n",
       "                             product_category_name  \\\n",
       "0      Договор на текущий счет для дебетовой карты   \n",
       "1      Договор на текущий счет для дебетовой карты   \n",
       "2      Договор на текущий счет для дебетовой карты   \n",
       "3      Договор на текущий счет для дебетовой карты   \n",
       "4      Договор на текущий счет для дебетовой карты   \n",
       "...                                            ...   \n",
       "16308  Договор на текущий счет для дебетовой карты   \n",
       "16309                              Кредитная карта   \n",
       "16310                              Кредитная карта   \n",
       "16311                              Кредитная карта   \n",
       "16312                              Кредитная карта   \n",
       "\n",
       "                                card_id             card_type_name  \\\n",
       "0      a83cbc33f164deae41b3339141923cc7      Visa Platinum Rewards   \n",
       "1      8dae17a830bb05d151034df618efbcad               VISA Classic   \n",
       "2      429ca8c43cdc5f3d8c9efc9069ee3fa6                        NaN   \n",
       "3      e7f4adb9187b867ebea15503298437a3               Visa Rewards   \n",
       "4      e7d13882154e965dca7070eb8d626f77  Eurocard/MasterCard World   \n",
       "...                                 ...                        ...   \n",
       "16308  d090cb20c22e2643ec366daf8d26d646                        NaN   \n",
       "16309  5a0041efbd5832765caf8b9f861bffa3                        NaN   \n",
       "16310  a78c73e84e893179de17071583cf5084                        NaN   \n",
       "16311  e3304eaf55891a175b6abf8030b99da1                        NaN   \n",
       "16312  db7d3058f19b8bab645cf33efd86330d                        NaN   \n",
       "\n",
       "       start_date  fact_close_date  purchase_sum  purchase_count  \\\n",
       "0            2019             2021         16600              71   \n",
       "1            2019               -1          4900               2   \n",
       "2              -1               -1             0               0   \n",
       "3            2021               -1         47800              12   \n",
       "4            2018             2022         47800              12   \n",
       "...           ...              ...           ...             ...   \n",
       "16308          -1               -1             0               0   \n",
       "16309          -1               -1         22700               7   \n",
       "16310          -1               -1             0               0   \n",
       "16311          -1               -1         15000              33   \n",
       "16312          -1               -1          9900              19   \n",
       "\n",
       "       current_balance_avg_sum  current_balance_sum  current_debit_turn_sum  \\\n",
       "0                        39700                25700                  220600   \n",
       "1                        38000                26800                   56300   \n",
       "2                            0                    0                       0   \n",
       "3                            0                    0                   51500   \n",
       "4                            0                    0                   51500   \n",
       "...                        ...                  ...                     ...   \n",
       "16308                        0                    0                       0   \n",
       "16309                        0                    0                   22700   \n",
       "16310                        0                  300                    9900   \n",
       "16311                        0                    0                   15000   \n",
       "16312                        0                    0                   29900   \n",
       "\n",
       "       current_credit_turn_sum card_type  \n",
       "0                       201000        dc  \n",
       "1                        31300        dc  \n",
       "2                            0        dc  \n",
       "3                        51500        cc  \n",
       "4                        51500        cc  \n",
       "...                        ...       ...  \n",
       "16308                        0        dc  \n",
       "16309                    22700        dc  \n",
       "16310                    10100        dc  \n",
       "16311                    15000        dc  \n",
       "16312                    29900        dc  \n",
       "\n",
       "[16313 rows x 19 columns]"
      ]
     },
     "execution_count": 7477,
     "metadata": {},
     "output_type": "execute_result"
    }
   ],
   "source": [
    "data"
   ]
  },
  {
   "cell_type": "markdown",
   "metadata": {},
   "source": [
    "Мужчины / Женщины"
   ]
  },
  {
   "cell_type": "code",
   "execution_count": 7478,
   "metadata": {},
   "outputs": [],
   "source": [
    "ManToWoman = data\n",
    "ManToWoman = ManToWoman.drop_duplicates(subset=['client_id'])\n",
    "ManToWoman = ManToWoman.sample(n=get_SystSampl(ManToWoman))\n",
    "ManToWoman = ManToWoman['gender'].value_counts()"
   ]
  },
  {
   "cell_type": "code",
   "execution_count": 7481,
   "metadata": {},
   "outputs": [],
   "source": [
    "ManToWoman = ManToWoman.to_frame()\n",
    "ManToWoman = ManToWoman.rename(columns = {0 : 'Gender'})"
   ]
  },
  {
   "cell_type": "code",
   "execution_count": 7482,
   "metadata": {},
   "outputs": [
    {
     "data": {
      "text/html": [
       "<div>\n",
       "<style scoped>\n",
       "    .dataframe tbody tr th:only-of-type {\n",
       "        vertical-align: middle;\n",
       "    }\n",
       "\n",
       "    .dataframe tbody tr th {\n",
       "        vertical-align: top;\n",
       "    }\n",
       "\n",
       "    .dataframe thead th {\n",
       "        text-align: right;\n",
       "    }\n",
       "</style>\n",
       "<table border=\"1\" class=\"dataframe\">\n",
       "  <thead>\n",
       "    <tr style=\"text-align: right;\">\n",
       "      <th></th>\n",
       "      <th>gender</th>\n",
       "    </tr>\n",
       "  </thead>\n",
       "  <tbody>\n",
       "    <tr>\n",
       "      <th>F</th>\n",
       "      <td>2886</td>\n",
       "    </tr>\n",
       "    <tr>\n",
       "      <th>M</th>\n",
       "      <td>2539</td>\n",
       "    </tr>\n",
       "  </tbody>\n",
       "</table>\n",
       "</div>"
      ],
      "text/plain": [
       "   gender\n",
       "F    2886\n",
       "M    2539"
      ]
     },
     "execution_count": 7482,
     "metadata": {},
     "output_type": "execute_result"
    }
   ],
   "source": [
    "ManToWoman"
   ]
  },
  {
   "cell_type": "code",
   "execution_count": 7483,
   "metadata": {},
   "outputs": [],
   "source": [
    "ManToWoman.to_json('ManToWoman.json', index='Gender', indent=1)"
   ]
  },
  {
   "cell_type": "markdown",
   "metadata": {},
   "source": [
    "Количество приобретённых карт за год"
   ]
  },
  {
   "cell_type": "code",
   "execution_count": 7484,
   "metadata": {},
   "outputs": [],
   "source": [
    "now = datetime.datetime.now()"
   ]
  },
  {
   "cell_type": "code",
   "execution_count": 7485,
   "metadata": {},
   "outputs": [],
   "source": [
    "cardTypeDF = data.query(f\"start_date >= {now.year}-1\")\n",
    "cardTypeDF = cardTypeDF.sample(n=get_SystSampl(cardTypeDF))"
   ]
  },
  {
   "cell_type": "code",
   "execution_count": 7486,
   "metadata": {},
   "outputs": [],
   "source": [
    "listCardType = cardTypeDF['card_type_name'].unique()"
   ]
  },
  {
   "cell_type": "code",
   "execution_count": 7543,
   "metadata": {},
   "outputs": [
    {
     "ename": "KeyError",
     "evalue": "'card_type_name'",
     "output_type": "error",
     "traceback": [
      "\u001b[1;31m---------------------------------------------------------------------------\u001b[0m",
      "\u001b[1;31mKeyError\u001b[0m                                  Traceback (most recent call last)",
      "File \u001b[1;32m~\\AppData\\Local\\Packages\\PythonSoftwareFoundation.Python.3.8_qbz5n2kfra8p0\\LocalCache\\local-packages\\Python38\\site-packages\\pandas\\core\\indexes\\base.py:3621\u001b[0m, in \u001b[0;36mIndex.get_loc\u001b[1;34m(self, key, method, tolerance)\u001b[0m\n\u001b[0;32m   3620\u001b[0m \u001b[39mtry\u001b[39;00m:\n\u001b[1;32m-> 3621\u001b[0m     \u001b[39mreturn\u001b[39;00m \u001b[39mself\u001b[39;49m\u001b[39m.\u001b[39;49m_engine\u001b[39m.\u001b[39;49mget_loc(casted_key)\n\u001b[0;32m   3622\u001b[0m \u001b[39mexcept\u001b[39;00m \u001b[39mKeyError\u001b[39;00m \u001b[39mas\u001b[39;00m err:\n",
      "File \u001b[1;32m~\\AppData\\Local\\Packages\\PythonSoftwareFoundation.Python.3.8_qbz5n2kfra8p0\\LocalCache\\local-packages\\Python38\\site-packages\\pandas\\_libs\\index.pyx:136\u001b[0m, in \u001b[0;36mpandas._libs.index.IndexEngine.get_loc\u001b[1;34m()\u001b[0m\n",
      "File \u001b[1;32m~\\AppData\\Local\\Packages\\PythonSoftwareFoundation.Python.3.8_qbz5n2kfra8p0\\LocalCache\\local-packages\\Python38\\site-packages\\pandas\\_libs\\index.pyx:163\u001b[0m, in \u001b[0;36mpandas._libs.index.IndexEngine.get_loc\u001b[1;34m()\u001b[0m\n",
      "File \u001b[1;32mpandas\\_libs\\hashtable_class_helper.pxi:5198\u001b[0m, in \u001b[0;36mpandas._libs.hashtable.PyObjectHashTable.get_item\u001b[1;34m()\u001b[0m\n",
      "File \u001b[1;32mpandas\\_libs\\hashtable_class_helper.pxi:5206\u001b[0m, in \u001b[0;36mpandas._libs.hashtable.PyObjectHashTable.get_item\u001b[1;34m()\u001b[0m\n",
      "\u001b[1;31mKeyError\u001b[0m: 'card_type_name'",
      "\nThe above exception was the direct cause of the following exception:\n",
      "\u001b[1;31mKeyError\u001b[0m                                  Traceback (most recent call last)",
      "\u001b[1;32mc:\\Users\\major\\Documents\\GitHub\\MoskowCityHack\\Pushihin\\Average_user.ipynb Cell 18'\u001b[0m in \u001b[0;36m<module>\u001b[1;34m\u001b[0m\n\u001b[1;32m----> <a href='vscode-notebook-cell:/c%3A/Users/major/Documents/GitHub/MoskowCityHack/Pushihin/Average_user.ipynb#ch0000011?line=0'>1</a>\u001b[0m cardTypeDF \u001b[39m=\u001b[39m cardTypeDF[\u001b[39m'\u001b[39;49m\u001b[39mcard_type_name\u001b[39;49m\u001b[39m'\u001b[39;49m]\u001b[39m.\u001b[39mvalue_counts()\n\u001b[0;32m      <a href='vscode-notebook-cell:/c%3A/Users/major/Documents/GitHub/MoskowCityHack/Pushihin/Average_user.ipynb#ch0000011?line=1'>2</a>\u001b[0m cardTypeDF\n",
      "File \u001b[1;32m~\\AppData\\Local\\Packages\\PythonSoftwareFoundation.Python.3.8_qbz5n2kfra8p0\\LocalCache\\local-packages\\Python38\\site-packages\\pandas\\core\\series.py:959\u001b[0m, in \u001b[0;36mSeries.__getitem__\u001b[1;34m(self, key)\u001b[0m\n\u001b[0;32m    956\u001b[0m     \u001b[39mreturn\u001b[39;00m \u001b[39mself\u001b[39m\u001b[39m.\u001b[39m_values[key]\n\u001b[0;32m    958\u001b[0m \u001b[39melif\u001b[39;00m key_is_scalar:\n\u001b[1;32m--> 959\u001b[0m     \u001b[39mreturn\u001b[39;00m \u001b[39mself\u001b[39;49m\u001b[39m.\u001b[39;49m_get_value(key)\n\u001b[0;32m    961\u001b[0m \u001b[39mif\u001b[39;00m is_hashable(key):\n\u001b[0;32m    962\u001b[0m     \u001b[39m# Otherwise index.get_value will raise InvalidIndexError\u001b[39;00m\n\u001b[0;32m    963\u001b[0m     \u001b[39mtry\u001b[39;00m:\n\u001b[0;32m    964\u001b[0m         \u001b[39m# For labels that don't resolve as scalars like tuples and frozensets\u001b[39;00m\n",
      "File \u001b[1;32m~\\AppData\\Local\\Packages\\PythonSoftwareFoundation.Python.3.8_qbz5n2kfra8p0\\LocalCache\\local-packages\\Python38\\site-packages\\pandas\\core\\series.py:1070\u001b[0m, in \u001b[0;36mSeries._get_value\u001b[1;34m(self, label, takeable)\u001b[0m\n\u001b[0;32m   1067\u001b[0m     \u001b[39mreturn\u001b[39;00m \u001b[39mself\u001b[39m\u001b[39m.\u001b[39m_values[label]\n\u001b[0;32m   1069\u001b[0m \u001b[39m# Similar to Index.get_value, but we do not fall back to positional\u001b[39;00m\n\u001b[1;32m-> 1070\u001b[0m loc \u001b[39m=\u001b[39m \u001b[39mself\u001b[39;49m\u001b[39m.\u001b[39;49mindex\u001b[39m.\u001b[39;49mget_loc(label)\n\u001b[0;32m   1071\u001b[0m \u001b[39mreturn\u001b[39;00m \u001b[39mself\u001b[39m\u001b[39m.\u001b[39mindex\u001b[39m.\u001b[39m_get_values_for_loc(\u001b[39mself\u001b[39m, loc, label)\n",
      "File \u001b[1;32m~\\AppData\\Local\\Packages\\PythonSoftwareFoundation.Python.3.8_qbz5n2kfra8p0\\LocalCache\\local-packages\\Python38\\site-packages\\pandas\\core\\indexes\\base.py:3623\u001b[0m, in \u001b[0;36mIndex.get_loc\u001b[1;34m(self, key, method, tolerance)\u001b[0m\n\u001b[0;32m   3621\u001b[0m     \u001b[39mreturn\u001b[39;00m \u001b[39mself\u001b[39m\u001b[39m.\u001b[39m_engine\u001b[39m.\u001b[39mget_loc(casted_key)\n\u001b[0;32m   3622\u001b[0m \u001b[39mexcept\u001b[39;00m \u001b[39mKeyError\u001b[39;00m \u001b[39mas\u001b[39;00m err:\n\u001b[1;32m-> 3623\u001b[0m     \u001b[39mraise\u001b[39;00m \u001b[39mKeyError\u001b[39;00m(key) \u001b[39mfrom\u001b[39;00m \u001b[39merr\u001b[39;00m\n\u001b[0;32m   3624\u001b[0m \u001b[39mexcept\u001b[39;00m \u001b[39mTypeError\u001b[39;00m:\n\u001b[0;32m   3625\u001b[0m     \u001b[39m# If we have a listlike key, _check_indexing_error will raise\u001b[39;00m\n\u001b[0;32m   3626\u001b[0m     \u001b[39m#  InvalidIndexError. Otherwise we fall through and re-raise\u001b[39;00m\n\u001b[0;32m   3627\u001b[0m     \u001b[39m#  the TypeError.\u001b[39;00m\n\u001b[0;32m   3628\u001b[0m     \u001b[39mself\u001b[39m\u001b[39m.\u001b[39m_check_indexing_error(key)\n",
      "\u001b[1;31mKeyError\u001b[0m: 'card_type_name'"
     ]
    }
   ],
   "source": [
    "cardTypeDF = cardTypeDF['card_type_name'].value_counts()\n",
    "cardTypeDF"
   ]
  },
  {
   "cell_type": "code",
   "execution_count": 7488,
   "metadata": {},
   "outputs": [],
   "source": [
    "sum = cardTypeDF.values.sum()"
   ]
  },
  {
   "cell_type": "code",
   "execution_count": 7490,
   "metadata": {},
   "outputs": [],
   "source": [
    "listCreditSys = ['МИР', 'MIR', 'Visa', 'MasterCard','Maestro','Other']\n",
    "listCreditSysCount = [0]*len(listCreditSys)"
   ]
  },
  {
   "cell_type": "code",
   "execution_count": 7491,
   "metadata": {},
   "outputs": [],
   "source": [
    "for i in range(len(cardTypeDF.index)):\n",
    "    for j in range(len(listCreditSys)):\n",
    "        if (listCreditSys[j] in cardTypeDF.index[i]) or (listCreditSys[j] in cardTypeDF.index[i].capitalize()) : listCreditSysCount[j] += cardTypeDF.values[i]"
   ]
  },
  {
   "cell_type": "code",
   "execution_count": 7492,
   "metadata": {},
   "outputs": [],
   "source": [
    "var = 0\n",
    "for i in range(len(listCreditSysCount)): var += listCreditSysCount[i]"
   ]
  },
  {
   "cell_type": "code",
   "execution_count": 7493,
   "metadata": {},
   "outputs": [],
   "source": [
    "listCreditSysCount[len(listCreditSysCount[:-1])] = sum - var"
   ]
  },
  {
   "cell_type": "code",
   "execution_count": 7494,
   "metadata": {},
   "outputs": [],
   "source": [
    "listCreditSys = listCreditSys[1:]\n",
    "listCreditSysCount[1] = listCreditSysCount[0] + listCreditSysCount[1]\n",
    "listCreditSysCount = listCreditSysCount[1:]"
   ]
  },
  {
   "cell_type": "code",
   "execution_count": 7495,
   "metadata": {},
   "outputs": [],
   "source": [
    "for i in range(len(listCreditSysCount)): listCreditSysCount[i] = round(listCreditSysCount[i]*100/sum, 1)"
   ]
  },
  {
   "cell_type": "code",
   "execution_count": 7496,
   "metadata": {},
   "outputs": [],
   "source": [
    "series_obj = pd.Series(listCreditSysCount, index=listCreditSys)"
   ]
  },
  {
   "cell_type": "code",
   "execution_count": 7497,
   "metadata": {},
   "outputs": [],
   "source": [
    "NewBankCard = series_obj.to_frame()\n",
    "NewBankCard = NewBankCard.rename(columns = {0:'System_name'})"
   ]
  },
  {
   "cell_type": "code",
   "execution_count": 7498,
   "metadata": {},
   "outputs": [
    {
     "data": {
      "text/html": [
       "<div>\n",
       "<style scoped>\n",
       "    .dataframe tbody tr th:only-of-type {\n",
       "        vertical-align: middle;\n",
       "    }\n",
       "\n",
       "    .dataframe tbody tr th {\n",
       "        vertical-align: top;\n",
       "    }\n",
       "\n",
       "    .dataframe thead th {\n",
       "        text-align: right;\n",
       "    }\n",
       "</style>\n",
       "<table border=\"1\" class=\"dataframe\">\n",
       "  <thead>\n",
       "    <tr style=\"text-align: right;\">\n",
       "      <th></th>\n",
       "      <th>System_name</th>\n",
       "    </tr>\n",
       "  </thead>\n",
       "  <tbody>\n",
       "    <tr>\n",
       "      <th>MIR</th>\n",
       "      <td>27.3</td>\n",
       "    </tr>\n",
       "    <tr>\n",
       "      <th>Visa</th>\n",
       "      <td>58.0</td>\n",
       "    </tr>\n",
       "    <tr>\n",
       "      <th>MasterCard</th>\n",
       "      <td>13.6</td>\n",
       "    </tr>\n",
       "    <tr>\n",
       "      <th>Maestro</th>\n",
       "      <td>0.0</td>\n",
       "    </tr>\n",
       "    <tr>\n",
       "      <th>Other</th>\n",
       "      <td>1.2</td>\n",
       "    </tr>\n",
       "  </tbody>\n",
       "</table>\n",
       "</div>"
      ],
      "text/plain": [
       "            System_name\n",
       "MIR                27.3\n",
       "Visa               58.0\n",
       "MasterCard         13.6\n",
       "Maestro             0.0\n",
       "Other               1.2"
      ]
     },
     "execution_count": 7498,
     "metadata": {},
     "output_type": "execute_result"
    }
   ],
   "source": [
    "NewBankCard"
   ]
  },
  {
   "cell_type": "code",
   "execution_count": 7499,
   "metadata": {},
   "outputs": [],
   "source": [
    "NewBankCard.to_json('NewBankCard.json', indent=1)"
   ]
  },
  {
   "cell_type": "markdown",
   "metadata": {},
   "source": [
    "Кол-во действующих банковских карт у человека в среднем"
   ]
  },
  {
   "cell_type": "code",
   "execution_count": 7500,
   "metadata": {},
   "outputs": [],
   "source": [
    "ValueCardData = data\n",
    "ValueCardData = ValueCardData.query(\"start_date != -1 & fact_close_date == -1\")\n",
    "ValueCardData = ValueCardData.drop(['purchase_sum','create_date', \"create_date\",'purchase_count','current_balance_avg_sum','current_balance_sum','current_debit_turn_sum','current_credit_turn_sum','contract_sum','gender','birth_date'], axis=1)\n",
    "ValueCardData = ValueCardData.drop(['card_type_name', 'start_date', 'fact_close_date', 'card_type', 'product_category_name', 'city', 'nonresident_flag'], axis=1)"
   ]
  },
  {
   "cell_type": "code",
   "execution_count": 7501,
   "metadata": {},
   "outputs": [],
   "source": [
    "ValueCardData = ValueCardData.value_counts('client_id')"
   ]
  },
  {
   "cell_type": "code",
   "execution_count": 7502,
   "metadata": {},
   "outputs": [],
   "source": [
    "ValueCardData = ValueCardData.drop_duplicates()\n",
    "ValueCardData = ValueCardData.sample(n=get_SystSampl(ValueCardData))"
   ]
  },
  {
   "cell_type": "code",
   "execution_count": 7503,
   "metadata": {},
   "outputs": [],
   "source": [
    "listCreditCard = [1,2,3,\"4+\"]\n",
    "listCreditCardCount = [0]*len(listCreditCard)"
   ]
  },
  {
   "cell_type": "code",
   "execution_count": 7504,
   "metadata": {},
   "outputs": [],
   "source": [
    "for i in range(len(ValueCardData.index)):\n",
    "        if ValueCardData[i] == 1:\n",
    "            listCreditCardCount[0] +=1\n",
    "        elif ValueCardData[i] == 2:\n",
    "            listCreditCardCount[1] +=1\n",
    "        elif ValueCardData[i] == 3:\n",
    "            listCreditCardCount[2] +=1\n",
    "        else:\n",
    "            listCreditCardCount[3] +=1"
   ]
  },
  {
   "cell_type": "code",
   "execution_count": 7505,
   "metadata": {},
   "outputs": [],
   "source": [
    "intSum = 0\n",
    "for i in range(len(listCreditCardCount)) : intSum += listCreditCardCount[i]"
   ]
  },
  {
   "cell_type": "code",
   "execution_count": 7506,
   "metadata": {},
   "outputs": [],
   "source": [
    "for i in range(len(listCreditCardCount)):\n",
    "    listCreditCardCount[i] = round(listCreditCardCount[i] * 100 / intSum,2)"
   ]
  },
  {
   "cell_type": "code",
   "execution_count": 7507,
   "metadata": {},
   "outputs": [],
   "source": [
    "list_tuples  = list(zip(listCreditCard, listCreditCardCount))\n",
    "NewBankCard = pd.DataFrame(list_tuples, columns=['CardType', 'CardCount'])"
   ]
  },
  {
   "cell_type": "code",
   "execution_count": 7508,
   "metadata": {},
   "outputs": [
    {
     "data": {
      "text/html": [
       "<div>\n",
       "<style scoped>\n",
       "    .dataframe tbody tr th:only-of-type {\n",
       "        vertical-align: middle;\n",
       "    }\n",
       "\n",
       "    .dataframe tbody tr th {\n",
       "        vertical-align: top;\n",
       "    }\n",
       "\n",
       "    .dataframe thead th {\n",
       "        text-align: right;\n",
       "    }\n",
       "</style>\n",
       "<table border=\"1\" class=\"dataframe\">\n",
       "  <thead>\n",
       "    <tr style=\"text-align: right;\">\n",
       "      <th></th>\n",
       "      <th>CardType</th>\n",
       "      <th>CardCount</th>\n",
       "    </tr>\n",
       "  </thead>\n",
       "  <tbody>\n",
       "    <tr>\n",
       "      <th>0</th>\n",
       "      <td>1</td>\n",
       "      <td>25.0</td>\n",
       "    </tr>\n",
       "    <tr>\n",
       "      <th>1</th>\n",
       "      <td>2</td>\n",
       "      <td>0.0</td>\n",
       "    </tr>\n",
       "    <tr>\n",
       "      <th>2</th>\n",
       "      <td>3</td>\n",
       "      <td>0.0</td>\n",
       "    </tr>\n",
       "    <tr>\n",
       "      <th>3</th>\n",
       "      <td>4+</td>\n",
       "      <td>75.0</td>\n",
       "    </tr>\n",
       "  </tbody>\n",
       "</table>\n",
       "</div>"
      ],
      "text/plain": [
       "  CardType  CardCount\n",
       "0        1       25.0\n",
       "1        2        0.0\n",
       "2        3        0.0\n",
       "3       4+       75.0"
      ]
     },
     "execution_count": 7508,
     "metadata": {},
     "output_type": "execute_result"
    }
   ],
   "source": [
    "NewBankCard"
   ]
  },
  {
   "cell_type": "code",
   "execution_count": 7509,
   "metadata": {},
   "outputs": [],
   "source": [
    "NewBankCard.to_json('CreditCardCount.json',index='CardType', indent=1)"
   ]
  },
  {
   "cell_type": "markdown",
   "metadata": {},
   "source": [
    "Возраст пользователей "
   ]
  },
  {
   "cell_type": "code",
   "execution_count": 7510,
   "metadata": {},
   "outputs": [],
   "source": [
    "ValueAgeData = data.query(\"start_date != -1 & fact_close_date == -1\")\n",
    "ValueAgeData = ValueAgeData.drop(['purchase_sum','create_date', \"create_date\",'purchase_count','current_balance_avg_sum','current_balance_sum','current_debit_turn_sum','current_credit_turn_sum','contract_sum','gender'], axis=1)\n",
    "ValueAgeData = ValueAgeData.drop(['card_type_name', 'start_date', 'fact_close_date', 'card_type', 'product_category_name', 'city', 'nonresident_flag','card_id'], axis=1)\n",
    "ValueAgeData = ValueAgeData.sample(n=get_SystSampl(ValueAgeData))"
   ]
  },
  {
   "cell_type": "code",
   "execution_count": 7511,
   "metadata": {},
   "outputs": [
    {
     "data": {
      "text/plain": [
       "1"
      ]
     },
     "execution_count": 7511,
     "metadata": {},
     "output_type": "execute_result"
    }
   ],
   "source": [
    "ValueAgeData.query(f\"{now.year-14} <= birth_date \").shape[0]"
   ]
  },
  {
   "cell_type": "code",
   "execution_count": 7512,
   "metadata": {},
   "outputs": [],
   "source": [
    "def getlistEqualPartsOfNumberParts(intNub, intParts):\n",
    "  d, r = divmod(intNub, intParts)\n",
    "  return [d + (1 if i < r else 0) for i in range(intParts)]"
   ]
  },
  {
   "cell_type": "code",
   "execution_count": 7513,
   "metadata": {},
   "outputs": [],
   "source": [
    "intMaxAge = 66"
   ]
  },
  {
   "cell_type": "code",
   "execution_count": 7514,
   "metadata": {},
   "outputs": [
    {
     "data": {
      "text/plain": [
       "[8, 8, 7, 7, 7, 7, 7, 7, 7, 7, 7, 7, 7, 7]"
      ]
     },
     "execution_count": 7514,
     "metadata": {},
     "output_type": "execute_result"
    }
   ],
   "source": [
    "listAgeZone = getlistEqualPartsOfNumberParts(100,14)\n",
    "listAgeZone"
   ]
  },
  {
   "cell_type": "code",
   "execution_count": 7515,
   "metadata": {},
   "outputs": [],
   "source": [
    "listCountAgeZone = [0] * len(listAgeZone)\n",
    "listSrtAgeZone = []\n",
    "if listAgeZone[0] < 14: intLeft = 14-listAgeZone[0]\n",
    "intRigth = listAgeZone[0]\n",
    "intSum = 0"
   ]
  },
  {
   "cell_type": "code",
   "execution_count": 7516,
   "metadata": {},
   "outputs": [],
   "source": [
    "for i in range(len(listAgeZone)-1):\n",
    "    intLeft += listAgeZone[i]\n",
    "    intRigth += listAgeZone[i+1]\n",
    "    listCountAgeZone[i] += ValueAgeData.query(f\"{now.year-intLeft} >= birth_date > {now.year-intRigth}\").shape[0]\n",
    "    intSum += listCountAgeZone[i]\n",
    "    listSrtAgeZone.append( str(str(intLeft) + '-' + str(intRigth)) )\n",
    "    if i == 0 : intLeft -= 14-listAgeZone[0]\n"
   ]
  },
  {
   "cell_type": "code",
   "execution_count": 7517,
   "metadata": {},
   "outputs": [
    {
     "data": {
      "text/plain": [
       "[0, 245, 396, 649, 681, 553, 395, 315, 123, 46, 8, 4, 0, 0]"
      ]
     },
     "execution_count": 7517,
     "metadata": {},
     "output_type": "execute_result"
    }
   ],
   "source": [
    "listCountAgeZone"
   ]
  },
  {
   "cell_type": "code",
   "execution_count": 7518,
   "metadata": {},
   "outputs": [],
   "source": [
    "for i in range(len(listCountAgeZone)): listCountAgeZone[i] = round(listCountAgeZone[i]   * 100 / intSum,2)"
   ]
  },
  {
   "cell_type": "code",
   "execution_count": 7519,
   "metadata": {},
   "outputs": [
    {
     "data": {
      "text/plain": [
       "['14-16',\n",
       " '16-23',\n",
       " '23-30',\n",
       " '30-37',\n",
       " '37-44',\n",
       " '44-51',\n",
       " '51-58',\n",
       " '58-65',\n",
       " '65-72',\n",
       " '72-79',\n",
       " '79-86',\n",
       " '86-93',\n",
       " '93-100']"
      ]
     },
     "execution_count": 7519,
     "metadata": {},
     "output_type": "execute_result"
    }
   ],
   "source": [
    "listSrtAgeZone"
   ]
  },
  {
   "cell_type": "code",
   "execution_count": 7520,
   "metadata": {},
   "outputs": [
    {
     "data": {
      "text/plain": [
       "3415"
      ]
     },
     "execution_count": 7520,
     "metadata": {},
     "output_type": "execute_result"
    }
   ],
   "source": [
    "intSum"
   ]
  },
  {
   "cell_type": "code",
   "execution_count": 7521,
   "metadata": {},
   "outputs": [],
   "source": [
    "#intCountOne   = ValueAgeData.query(f\"{now.year-18} >= birth_date >= {now.year-30}\").shape[0]\n",
    "#intCountTwo   = ValueAgeData.query(f\"{now.year-31} >= birth_date >= {now.year-42}\").shape[0]\n",
    "#intCountThree   = ValueAgeData.query(f\"{now.year-43} >= birth_date >= {now.year-55}\").shape[0]\n",
    "#intCountFour = ValueAgeData.query(f\"{now.year-67} > birth_date\").shape[0]\n",
    "#intSizeValueAgeData = ValueAgeData.shape[0]"
   ]
  },
  {
   "cell_type": "code",
   "execution_count": 7522,
   "metadata": {},
   "outputs": [],
   "source": [
    "#[intCountOne,intCountTwo,intCountThree,intCountFour]"
   ]
  },
  {
   "cell_type": "code",
   "execution_count": 7523,
   "metadata": {},
   "outputs": [],
   "source": [
    "#intCountOne   = round(intCountOne   * 100 / intSizeValueAgeData,2)\n",
    "#intCountTwo   = round(intCountTwo   * 100 / intSizeValueAgeData,2)\n",
    "#intCountThree = round(intCountThree * 100 / intSizeValueAgeData,2)\n",
    "#intCountFour = round(intCountFour  * 100 / intSizeValueAgeData,2)"
   ]
  },
  {
   "cell_type": "code",
   "execution_count": 7524,
   "metadata": {},
   "outputs": [],
   "source": [
    "list_tuples  = list(zip(listSrtAgeZone[:-1], listCountAgeZone ))\n",
    "OldProcent = pd.DataFrame(list_tuples, columns=['Age','Prosent']) "
   ]
  },
  {
   "cell_type": "code",
   "execution_count": 7525,
   "metadata": {},
   "outputs": [
    {
     "data": {
      "text/html": [
       "<div>\n",
       "<style scoped>\n",
       "    .dataframe tbody tr th:only-of-type {\n",
       "        vertical-align: middle;\n",
       "    }\n",
       "\n",
       "    .dataframe tbody tr th {\n",
       "        vertical-align: top;\n",
       "    }\n",
       "\n",
       "    .dataframe thead th {\n",
       "        text-align: right;\n",
       "    }\n",
       "</style>\n",
       "<table border=\"1\" class=\"dataframe\">\n",
       "  <thead>\n",
       "    <tr style=\"text-align: right;\">\n",
       "      <th></th>\n",
       "      <th>Age</th>\n",
       "      <th>Prosent</th>\n",
       "    </tr>\n",
       "  </thead>\n",
       "  <tbody>\n",
       "    <tr>\n",
       "      <th>0</th>\n",
       "      <td>14-16</td>\n",
       "      <td>0.00</td>\n",
       "    </tr>\n",
       "    <tr>\n",
       "      <th>1</th>\n",
       "      <td>16-23</td>\n",
       "      <td>7.17</td>\n",
       "    </tr>\n",
       "    <tr>\n",
       "      <th>2</th>\n",
       "      <td>23-30</td>\n",
       "      <td>11.60</td>\n",
       "    </tr>\n",
       "    <tr>\n",
       "      <th>3</th>\n",
       "      <td>30-37</td>\n",
       "      <td>19.00</td>\n",
       "    </tr>\n",
       "    <tr>\n",
       "      <th>4</th>\n",
       "      <td>37-44</td>\n",
       "      <td>19.94</td>\n",
       "    </tr>\n",
       "    <tr>\n",
       "      <th>5</th>\n",
       "      <td>44-51</td>\n",
       "      <td>16.19</td>\n",
       "    </tr>\n",
       "    <tr>\n",
       "      <th>6</th>\n",
       "      <td>51-58</td>\n",
       "      <td>11.57</td>\n",
       "    </tr>\n",
       "    <tr>\n",
       "      <th>7</th>\n",
       "      <td>58-65</td>\n",
       "      <td>9.22</td>\n",
       "    </tr>\n",
       "    <tr>\n",
       "      <th>8</th>\n",
       "      <td>65-72</td>\n",
       "      <td>3.60</td>\n",
       "    </tr>\n",
       "    <tr>\n",
       "      <th>9</th>\n",
       "      <td>72-79</td>\n",
       "      <td>1.35</td>\n",
       "    </tr>\n",
       "    <tr>\n",
       "      <th>10</th>\n",
       "      <td>79-86</td>\n",
       "      <td>0.23</td>\n",
       "    </tr>\n",
       "    <tr>\n",
       "      <th>11</th>\n",
       "      <td>86-93</td>\n",
       "      <td>0.12</td>\n",
       "    </tr>\n",
       "  </tbody>\n",
       "</table>\n",
       "</div>"
      ],
      "text/plain": [
       "      Age  Prosent\n",
       "0   14-16     0.00\n",
       "1   16-23     7.17\n",
       "2   23-30    11.60\n",
       "3   30-37    19.00\n",
       "4   37-44    19.94\n",
       "5   44-51    16.19\n",
       "6   51-58    11.57\n",
       "7   58-65     9.22\n",
       "8   65-72     3.60\n",
       "9   72-79     1.35\n",
       "10  79-86     0.23\n",
       "11  86-93     0.12"
      ]
     },
     "execution_count": 7525,
     "metadata": {},
     "output_type": "execute_result"
    }
   ],
   "source": [
    "OldProcent"
   ]
  },
  {
   "cell_type": "code",
   "execution_count": 7526,
   "metadata": {},
   "outputs": [],
   "source": [
    "OldProcent.to_json('OldProcent.json', index='Age', indent=1)"
   ]
  },
  {
   "cell_type": "markdown",
   "metadata": {},
   "source": [
    "Сколько средний остаток за месяц по кредитным картам"
   ]
  },
  {
   "cell_type": "code",
   "execution_count": 7527,
   "metadata": {},
   "outputs": [],
   "source": [
    "turnBalanceData = data\n",
    "turnBalanceData = turnBalanceData.drop([ 'gender', 'birth_date', 'create_date', 'nonresident_flag', 'city', 'contract_sum', 'card_type_name', 'start_date', 'fact_close_date'], axis=1)\n",
    "balanceData = turnBalanceData.drop_duplicates(subset='card_id')\n",
    "creditTurnBalanceData = turnBalanceData.query(\"current_credit_turn_sum > 0 & product_category_name == 'Договор на текущий счет для дебетовой карты'\")\n",
    "creditTurnBalanceData = creditTurnBalanceData.sample(n=get_SystSampl(creditTurnBalanceData))\n",
    "debetTurnBalanceData  = turnBalanceData.query(\"current_debit_turn_sum > 0  & product_category_name == 'Кредитная карта'\")\n",
    "debetTurnBalanceData = debetTurnBalanceData.sample(n=get_SystSampl(debetTurnBalanceData))\n",
    "#ValueAgeData = ValueAgeData.sample(n=get_SystSampl(ValueAgeData))"
   ]
  },
  {
   "cell_type": "code",
   "execution_count": 7528,
   "metadata": {},
   "outputs": [
    {
     "data": {
      "text/plain": [
       "[699, 4905]"
      ]
     },
     "execution_count": 7528,
     "metadata": {},
     "output_type": "execute_result"
    }
   ],
   "source": [
    "[debetTurnBalanceData.shape[0], creditTurnBalanceData.shape[0]]"
   ]
  },
  {
   "cell_type": "code",
   "execution_count": 7529,
   "metadata": {},
   "outputs": [],
   "source": [
    "medianDebetTurnBalanceData = debetTurnBalanceData['current_debit_turn_sum'].median()\n",
    "medianCreditTurnBalanceData = creditTurnBalanceData['current_credit_turn_sum'].median()"
   ]
  },
  {
   "cell_type": "code",
   "execution_count": 7530,
   "metadata": {},
   "outputs": [],
   "source": [
    "list_tuples  = list(zip(['Median debet turn sum','Median credit turn sum'], [int(medianDebetTurnBalanceData), int(medianCreditTurnBalanceData)]))\n",
    "medianBalance = pd.DataFrame(list_tuples, columns=['Type','Amount']) "
   ]
  },
  {
   "cell_type": "code",
   "execution_count": 7531,
   "metadata": {},
   "outputs": [
    {
     "data": {
      "text/html": [
       "<div>\n",
       "<style scoped>\n",
       "    .dataframe tbody tr th:only-of-type {\n",
       "        vertical-align: middle;\n",
       "    }\n",
       "\n",
       "    .dataframe tbody tr th {\n",
       "        vertical-align: top;\n",
       "    }\n",
       "\n",
       "    .dataframe thead th {\n",
       "        text-align: right;\n",
       "    }\n",
       "</style>\n",
       "<table border=\"1\" class=\"dataframe\">\n",
       "  <thead>\n",
       "    <tr style=\"text-align: right;\">\n",
       "      <th></th>\n",
       "      <th>Type</th>\n",
       "      <th>Amount</th>\n",
       "    </tr>\n",
       "  </thead>\n",
       "  <tbody>\n",
       "    <tr>\n",
       "      <th>0</th>\n",
       "      <td>Median debet turn sum</td>\n",
       "      <td>42700</td>\n",
       "    </tr>\n",
       "    <tr>\n",
       "      <th>1</th>\n",
       "      <td>Median credit turn sum</td>\n",
       "      <td>44000</td>\n",
       "    </tr>\n",
       "  </tbody>\n",
       "</table>\n",
       "</div>"
      ],
      "text/plain": [
       "                     Type  Amount\n",
       "0   Median debet turn sum   42700\n",
       "1  Median credit turn sum   44000"
      ]
     },
     "execution_count": 7531,
     "metadata": {},
     "output_type": "execute_result"
    }
   ],
   "source": [
    "medianBalance"
   ]
  },
  {
   "cell_type": "code",
   "execution_count": 7532,
   "metadata": {},
   "outputs": [],
   "source": [
    "medianBalance.to_json('MedianBalance.json', index='Type', indent=1)"
   ]
  },
  {
   "cell_type": "markdown",
   "metadata": {},
   "source": [
    "Среднее время пользование банком"
   ]
  },
  {
   "cell_type": "code",
   "execution_count": 7534,
   "metadata": {},
   "outputs": [],
   "source": [
    "AvrTimeUse = data\n",
    "AvrTimeUse = AvrTimeUse[ ['client_id', 'card_id','start_date', 'fact_close_date'] ]\n",
    "AvrTimeUse = AvrTimeUse.query(\"start_date > 0\").sample(n=get_SystSampl(AvrTimeUse))\n",
    "AvrTimeUse['Sum'] = 0\n",
    "AvrTimeUse.loc[((AvrTimeUse.fact_close_date == -1)  ), \"fact_close_date\"] = now.year\n",
    "AvrTimeUse.Sum = AvrTimeUse.fact_close_date - AvrTimeUse.start_date"
   ]
  },
  {
   "cell_type": "code",
   "execution_count": 7541,
   "metadata": {},
   "outputs": [],
   "source": [
    "medianAvrTimeUse = AvrTimeUse.Sum.median()"
   ]
  },
  {
   "cell_type": "code",
   "execution_count": 7542,
   "metadata": {},
   "outputs": [
    {
     "data": {
      "text/plain": [
       "1.0"
      ]
     },
     "execution_count": 7542,
     "metadata": {},
     "output_type": "execute_result"
    }
   ],
   "source": [
    "medianAvrTimeUse"
   ]
  },
  {
   "cell_type": "code",
   "execution_count": null,
   "metadata": {},
   "outputs": [],
   "source": []
  }
 ],
 "metadata": {
  "kernelspec": {
   "display_name": "Python 3.8.10 64-bit (windows store)",
   "language": "python",
   "name": "python3"
  },
  "language_info": {
   "codemirror_mode": {
    "name": "ipython",
    "version": 3
   },
   "file_extension": ".py",
   "mimetype": "text/x-python",
   "name": "python",
   "nbconvert_exporter": "python",
   "pygments_lexer": "ipython3",
   "version": "3.8.10"
  },
  "orig_nbformat": 4,
  "vscode": {
   "interpreter": {
    "hash": "a4c666bb8bcca651d5f0a1a5c18ce420848431a9af5daeb4843d708669ed8004"
   }
  }
 },
 "nbformat": 4,
 "nbformat_minor": 2
}
