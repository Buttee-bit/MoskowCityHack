{
 "cells": [
  {
   "cell_type": "code",
   "execution_count": 45,
   "id": "occupied-novelty",
   "metadata": {},
   "outputs": [],
   "source": [
    "import pandas as pd\n",
    "import json"
   ]
  },
  {
   "cell_type": "code",
   "execution_count": 46,
   "id": "revised-diana",
   "metadata": {},
   "outputs": [],
   "source": [
    "def save_fileInJSON(content ,strRoot : str, mode = 'w'):\n",
    "    with open(strRoot,mode) as file:\n",
    "        file.write(json.dumps(content))"
   ]
  },
  {
   "cell_type": "code",
   "execution_count": 47,
   "id": "elect-spokesman",
   "metadata": {},
   "outputs": [],
   "source": [
    "def get_compressedData(listContent_One : list, listContent_Two : list, listHead : list):\n",
    "    listVar = []\n",
    "    for i in range(min(len(listContent_One), len(listContent_Two))):\n",
    "        listVar.append( {listHead[0]:listContent_One[i], listHead[1]:listContent_Two[i]} )\n",
    "    return listVar"
   ]
  },
  {
   "cell_type": "code",
   "execution_count": 48,
   "id": "innocent-correlation",
   "metadata": {},
   "outputs": [],
   "source": [
    "data = pd.read_csv('data_vk.csv')"
   ]
  },
  {
   "cell_type": "code",
   "execution_count": 49,
   "id": "agreed-zambia",
   "metadata": {},
   "outputs": [],
   "source": [
    "data = data.rename(columns={\"Название площадки\": \"name\", \"Ссылка на сообщество\": \"link\"\n",
    "                    , \"Количество участников\": \"subs\", \"Охват рекламы\": \"oxvat_rek\"\n",
    "                    , \"Охват по подписчикам\": \"oxvat_subs\", \"Стоимость\": \"cost\",\n",
    "                     \"Длительность размещения\": \"late_time\"})"
   ]
  },
  {
   "cell_type": "code",
   "execution_count": 50,
   "id": "english-force",
   "metadata": {},
   "outputs": [],
   "source": [
    "data =data.drop(['link','oxvat_rek','late_time'],axis=1)"
   ]
  },
  {
   "cell_type": "code",
   "execution_count": 51,
   "id": "absolute-rings",
   "metadata": {},
   "outputs": [],
   "source": [
    "data['predictCTR'] = (0.89/100)"
   ]
  },
  {
   "cell_type": "code",
   "execution_count": 52,
   "id": "deadly-astrology",
   "metadata": {},
   "outputs": [],
   "source": [
    "data['CPC_predict'] = data['cost']/(data['predictCTR']*data['oxvat_subs'])"
   ]
  },
  {
   "cell_type": "code",
   "execution_count": 53,
   "id": "extended-quilt",
   "metadata": {},
   "outputs": [],
   "source": [
    "average_average_bank = 4000\n",
    "ratio_effectiv = 0.05"
   ]
  },
  {
   "cell_type": "code",
   "execution_count": 54,
   "id": "retired-bishop",
   "metadata": {},
   "outputs": [],
   "source": [
    "data['predict_match_views'] = (data['oxvat_subs']*data['predictCTR']).astype(int)"
   ]
  },
  {
   "cell_type": "code",
   "execution_count": 55,
   "id": "contemporary-casting",
   "metadata": {},
   "outputs": [],
   "source": [
    "data = data.sort_values(by=['predict_match_views'],ascending=False)"
   ]
  },
  {
   "cell_type": "code",
   "execution_count": 56,
   "id": "urban-mounting",
   "metadata": {},
   "outputs": [],
   "source": [
    "data['predict_match_users'] = (data['predict_match_views']*ratio_effectiv).astype(int)"
   ]
  },
  {
   "cell_type": "code",
   "execution_count": 57,
   "id": "wanted-genre",
   "metadata": {},
   "outputs": [],
   "source": [
    "data['predict_profit_bank'] = data['predict_match_users']*average_average_bank"
   ]
  },
  {
   "cell_type": "code",
   "execution_count": 58,
   "id": "first-worker",
   "metadata": {},
   "outputs": [],
   "source": [
    "data = data[data['predict_match_users']>0]"
   ]
  },
  {
   "cell_type": "code",
   "execution_count": 59,
   "id": "color-moore",
   "metadata": {
    "scrolled": false
   },
   "outputs": [],
   "source": [
    "data['cost_one_user'] = (data['cost']/data['predict_match_users']).astype(int)"
   ]
  },
  {
   "cell_type": "code",
   "execution_count": 60,
   "id": "beginning-looking",
   "metadata": {},
   "outputs": [],
   "source": [
    "data['predict_profit_bank_prize'] = data['predict_profit_bank'] - data['cost']"
   ]
  },
  {
   "cell_type": "code",
   "execution_count": 61,
   "id": "lesser-elephant",
   "metadata": {},
   "outputs": [],
   "source": [
    "data = data.sort_values(by=['predict_profit_bank_prize'],ascending=False)"
   ]
  },
  {
   "cell_type": "code",
   "execution_count": 62,
   "id": "adjacent-charger",
   "metadata": {},
   "outputs": [],
   "source": [
    "data.index = data.name"
   ]
  },
  {
   "cell_type": "markdown",
   "id": "stock-broad",
   "metadata": {},
   "source": [
    "Профит банка"
   ]
  },
  {
   "cell_type": "code",
   "execution_count": 63,
   "id": "twenty-shower",
   "metadata": {},
   "outputs": [
    {
     "ename": "FileNotFoundError",
     "evalue": "[Errno 2] No such file or directory: 'JSON_RTG/bankProfit_VK.json'",
     "output_type": "error",
     "traceback": [
      "\u001b[1;31m---------------------------------------------------------------------------\u001b[0m",
      "\u001b[1;31mFileNotFoundError\u001b[0m                         Traceback (most recent call last)",
      "\u001b[1;32mc:\\Users\\major\\Documents\\GitHub\\MoskowCityHack\\Zharkovskee\\analiz_vk.ipynb Cell 20'\u001b[0m in \u001b[0;36m<module>\u001b[1;34m\u001b[0m\n\u001b[1;32m----> <a href='vscode-notebook-cell:/c%3A/Users/major/Documents/GitHub/MoskowCityHack/Zharkovskee/analiz_vk.ipynb#ch0000024?line=0'>1</a>\u001b[0m save_fileInJSON(get_compressedData(data\u001b[39m.\u001b[39;49mpredict_profit_bank_prize\u001b[39m.\u001b[39;49mindex\u001b[39m.\u001b[39;49mtolist() ,  data\u001b[39m.\u001b[39;49mpredict_profit_bank_prize\u001b[39m.\u001b[39;49mvalues\u001b[39m.\u001b[39;49mtolist(), [\u001b[39m'\u001b[39;49m\u001b[39mPlatformName\u001b[39;49m\u001b[39m'\u001b[39;49m,\u001b[39m'\u001b[39;49m\u001b[39mPredictProfit\u001b[39;49m\u001b[39m'\u001b[39;49m]), \u001b[39m'\u001b[39;49m\u001b[39mJSON_RTG/bankProfit_VK.json\u001b[39;49m\u001b[39m'\u001b[39;49m)\n",
      "\u001b[1;32mc:\\Users\\major\\Documents\\GitHub\\MoskowCityHack\\Zharkovskee\\analiz_vk.ipynb Cell 2'\u001b[0m in \u001b[0;36msave_fileInJSON\u001b[1;34m(content, strRoot, mode)\u001b[0m\n\u001b[0;32m      <a href='vscode-notebook-cell:/c%3A/Users/major/Documents/GitHub/MoskowCityHack/Zharkovskee/analiz_vk.ipynb#ch0000001?line=0'>1</a>\u001b[0m \u001b[39mdef\u001b[39;00m \u001b[39msave_fileInJSON\u001b[39m(content ,strRoot : \u001b[39mstr\u001b[39m, mode \u001b[39m=\u001b[39m \u001b[39m'\u001b[39m\u001b[39mw\u001b[39m\u001b[39m'\u001b[39m):\n\u001b[1;32m----> <a href='vscode-notebook-cell:/c%3A/Users/major/Documents/GitHub/MoskowCityHack/Zharkovskee/analiz_vk.ipynb#ch0000001?line=1'>2</a>\u001b[0m     \u001b[39mwith\u001b[39;00m \u001b[39mopen\u001b[39;49m(strRoot,mode) \u001b[39mas\u001b[39;00m file:\n\u001b[0;32m      <a href='vscode-notebook-cell:/c%3A/Users/major/Documents/GitHub/MoskowCityHack/Zharkovskee/analiz_vk.ipynb#ch0000001?line=2'>3</a>\u001b[0m         file\u001b[39m.\u001b[39mwrite(json\u001b[39m.\u001b[39mdumps(content))\n",
      "\u001b[1;31mFileNotFoundError\u001b[0m: [Errno 2] No such file or directory: 'JSON_RTG/bankProfit_VK.json'"
     ]
    }
   ],
   "source": [
    "save_fileInJSON(get_compressedData(data.predict_profit_bank_prize.index.tolist() ,  data.predict_profit_bank_prize.values.tolist(), ['PlatformName','PredictProfit']), 'JSON_RTG/bankProfit_VK.json')"
   ]
  },
  {
   "cell_type": "markdown",
   "id": "approximate-orange",
   "metadata": {},
   "source": [
    "Стоимость одного клиента"
   ]
  },
  {
   "cell_type": "code",
   "execution_count": null,
   "id": "false-steel",
   "metadata": {},
   "outputs": [],
   "source": [
    "save_fileInJSON(get_compressedData(data.cost_one_user.index.tolist() ,  data.cost_one_user.values.tolist(), ['CountOfClient','PlatformName']), 'JSON_RTG/PricePerClient_VK.json')"
   ]
  },
  {
   "cell_type": "markdown",
   "id": "adaptive-publication",
   "metadata": {},
   "source": [
    "Количество новых клиентов"
   ]
  },
  {
   "cell_type": "code",
   "execution_count": null,
   "id": "demanding-questionnaire",
   "metadata": {},
   "outputs": [],
   "source": [
    "save_fileInJSON(get_compressedData(data.predict_match_users.index.tolist() ,  data.predict_match_users.values.tolist(), ['CountOfClient','PlatformName']), 'JSON_RTG/CountOfNewClients_VK.json')"
   ]
  }
 ],
 "metadata": {
  "kernelspec": {
   "display_name": "Python 3.8.10 64-bit (windows store)",
   "language": "python",
   "name": "python3"
  },
  "language_info": {
   "codemirror_mode": {
    "name": "ipython",
    "version": 3
   },
   "file_extension": ".py",
   "mimetype": "text/x-python",
   "name": "python",
   "nbconvert_exporter": "python",
   "pygments_lexer": "ipython3",
   "version": "3.8.10"
  },
  "vscode": {
   "interpreter": {
    "hash": "a4c666bb8bcca651d5f0a1a5c18ce420848431a9af5daeb4843d708669ed8004"
   }
  }
 },
 "nbformat": 4,
 "nbformat_minor": 5
}
